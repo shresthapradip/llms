{
 "cells": [
  {
   "cell_type": "code",
   "execution_count": 102,
   "id": "c2a43bed-7a36-4583-bab4-bfefd3c551b5",
   "metadata": {},
   "outputs": [],
   "source": [
    "from langchain.document_loaders import PyPDFLoader"
   ]
  },
  {
   "cell_type": "code",
   "execution_count": 123,
   "id": "2b4102be-dc9d-44ee-bc22-3a4d94b5290f",
   "metadata": {},
   "outputs": [],
   "source": [
    "from langchain.document_loaders import PyPDFLoader\n",
    "\n",
    "# Load PDF\n",
    "loaders = [\n",
    "    # Duplicate documents on purpose - messy data\n",
    "    PyPDFLoader(\"data/Addison_Wesley_The_Object_Orient.pdf\")\n",
    "]\n",
    "docs = []\n",
    "for loader in loaders:\n",
    "    docs.extend(loader.load())"
   ]
  },
  {
   "cell_type": "code",
   "execution_count": 124,
   "id": "d9edd7af-8677-40b4-9c0e-b2825a9adfdb",
   "metadata": {},
   "outputs": [
    {
     "data": {
      "text/plain": [
       "565"
      ]
     },
     "execution_count": 124,
     "metadata": {},
     "output_type": "execute_result"
    }
   ],
   "source": [
    "from langchain.text_splitter import RecursiveCharacterTextSplitter\n",
    "text_splitter = RecursiveCharacterTextSplitter(\n",
    "    chunk_size = 1500,\n",
    "    chunk_overlap = 150\n",
    ")\n",
    "splits = text_splitter.split_documents(docs)\n",
    "len(splits)"
   ]
  },
  {
   "cell_type": "code",
   "execution_count": 142,
   "id": "fc2c52c2-ba22-4d38-90f5-7fa1040e8928",
   "metadata": {},
   "outputs": [
    {
     "data": {
      "text/plain": [
       "'The Object-Oriented\\nThought Process\\nThird Edition'"
      ]
     },
     "execution_count": 142,
     "metadata": {},
     "output_type": "execute_result"
    }
   ],
   "source": [
    "splits[0].page_content"
   ]
  },
  {
   "cell_type": "code",
   "execution_count": 11,
   "id": "5af0d49d-0beb-4552-8442-519e8eb58e75",
   "metadata": {},
   "outputs": [],
   "source": [
    "import sagemaker\n",
    "from langchain.retrievers import ContextualCompressionRetriever\n",
    "from langchain.retrievers.document_compressors import LLMChainExtractor\n",
    "from sagemaker.predictor import retrieve_default\n",
    "from langchain_community.llms import SagemakerEndpoint\n",
    "from langchain_community.embeddings import SagemakerEndpointEmbeddings\n",
    "from langchain_community.llms.sagemaker_endpoint import LLMContentHandler\n",
    "import json\n",
    "from typing import Dict\n",
    "\n",
    "class ContentHandler(LLMContentHandler):\n",
    "    content_type = \"application/json\"\n",
    "    accepts = \"application/json\"\n",
    "\n",
    "    def transform_input(self, prompt: str, model_kwargs: Dict) -> bytes:\n",
    "        input_str = json.dumps({\"inputs\": prompt, \"parameters\": model_kwargs})\n",
    "        return input_str.encode(\"utf-8\")\n",
    "\n",
    "    def transform_output(self, output: bytes) -> str:\n",
    "        response_json = json.loads(output.read().decode(\"utf-8\"))\n",
    "        return response_json[0][\"generated_text\"]\n",
    "\n",
    "endpoint_name = \"jumpstart-dft-llama-3-1-8b-instruct-20240725-141454\"\n",
    "sess = sagemaker.session.Session() "
   ]
  },
  {
   "cell_type": "code",
   "execution_count": 10,
   "id": "6279fc62-14db-4543-bcca-156d60b0d495",
   "metadata": {
    "scrolled": true
   },
   "outputs": [],
   "source": [
    "from langchain.embeddings import HuggingFaceEmbeddings\n",
    "from llama_index.embeddings.langchain import LangchainEmbedding\n",
    "from langchain_community.embeddings.sagemaker_endpoint import EmbeddingsContentHandler\n",
    "\n",
    "lc_embed_model = HuggingFaceEmbeddings(\n",
    "    model_name=\"sentence-transformers/all-mpnet-base-v2\"\n",
    ")\n",
    "embed_model = LangchainEmbedding(lc_embed_model)"
   ]
  },
  {
   "cell_type": "code",
   "execution_count": 12,
   "id": "732bc55e-6ec7-4889-8a6b-6440a587f2be",
   "metadata": {},
   "outputs": [],
   "source": [
    "# not used\n",
    "class NIAIDEmbeddingsContentHandler(EmbeddingsContentHandler):\n",
    "    content_type = \"application/json\"\n",
    "    accepts = \"application/json\"\n",
    "\n",
    "    def transform_input(self, text_inputs: list[str], model_kwargs: dict) -> bytes:\n",
    "        input_str = json.dumps(\n",
    "            {\n",
    "                \"text_inputs\": text_inputs,\n",
    "                **model_kwargs\n",
    "            }\n",
    "        )\n",
    "        return input_str.encode(\"utf-8\")\n",
    "    def transform_output(self, output: bytes) -> list[list[float]]:\n",
    "        response_json = json.loads(output.read().decode(\"utf-8\"))\n",
    "        return response_json[\"embedding\"]"
   ]
  },
  {
   "cell_type": "code",
   "execution_count": 13,
   "id": "ee77528e-9cff-42b1-83b2-6c583337c942",
   "metadata": {},
   "outputs": [],
   "source": [
    "from sagemaker.predictor import retrieve_default\n",
    "endpoint_name = \"jumpstart-dft-llama-3-1-8b-instruct-20240820-143856\"\n",
    "predictor = retrieve_default(endpoint_name)"
   ]
  },
  {
   "cell_type": "code",
   "execution_count": 15,
   "id": "39a0fe67-7c1f-4efb-828e-3e164f0923f3",
   "metadata": {},
   "outputs": [],
   "source": [
    "# We don't have deployed embedding model\n",
    "sagemaker_embeddings = SagemakerEndpointEmbeddings(\n",
    "    endpoint_name=endpoint_name,\n",
    "    region_name=sess._region_name,\n",
    "    model_kwargs={\"mode\": \"embedding\"},\n",
    "    content_handler=NIAIDEmbeddingsContentHandler(),\n",
    ")"
   ]
  },
  {
   "cell_type": "code",
   "execution_count": 129,
   "id": "4e9d5571-a460-4d8a-9465-7bb503293f3d",
   "metadata": {
    "scrolled": true
   },
   "outputs": [
    {
     "name": "stderr",
     "output_type": "stream",
     "text": [
      "huggingface/tokenizers: The current process just got forked, after parallelism has already been used. Disabling parallelism to avoid deadlocks...\n",
      "To disable this warning, you can either:\n",
      "\t- Avoid using `tokenizers` before the fork if possible\n",
      "\t- Explicitly set the environment variable TOKENIZERS_PARALLELISM=(true | false)\n"
     ]
    }
   ],
   "source": [
    "from langchain.vectorstores import Chroma\n",
    "persist_directory = \"./vectordb\"\n",
    "!rm -rf ./vector_db\n"
   ]
  },
  {
   "cell_type": "code",
   "execution_count": 130,
   "id": "f7ef3d04-c986-41b8-94c7-62f23e4971d6",
   "metadata": {},
   "outputs": [
    {
     "name": "stdout",
     "output_type": "stream",
     "text": [
      "565\n"
     ]
    }
   ],
   "source": [
    "recreate_db = True\n",
    "if recreate_db:\n",
    "    vectordb = Chroma.from_documents(documents=splits,\n",
    "                    embedding=lc_embed_model,\n",
    "                    persist_directory=persist_directory)\n",
    "else:\n",
    "    vectordb = Chroma(persist_directory=persist_directory, \n",
    "                         embedding_function=lc_embed_model)\n",
    "    \n",
    "print(vectordb._collection.count())"
   ]
  },
  {
   "cell_type": "code",
   "execution_count": 144,
   "id": "4b73b686-ae2f-40a1-ba91-b27c07312ce2",
   "metadata": {},
   "outputs": [
    {
     "data": {
      "text/plain": [
       "<langchain_community.vectorstores.chroma.Chroma at 0x2a0fa54d0>"
      ]
     },
     "execution_count": 144,
     "metadata": {},
     "output_type": "execute_result"
    }
   ],
   "source": [
    "vectordb"
   ]
  },
  {
   "cell_type": "code",
   "execution_count": 131,
   "id": "5732ad59-5015-4691-9f36-0af44d150429",
   "metadata": {},
   "outputs": [],
   "source": [
    "\n",
    "llm = SagemakerEndpoint(\n",
    "     endpoint_name=endpoint_name,\n",
    "     region_name=sess._region_name,\n",
    "     content_handler=ContentHandler()\n",
    " )\n",
    "\n",
    "def pretty_print_docs(docs):\n",
    "    print(f\"\\n{'-' * 100}\\n\".join([f\"Document {i+1}:\\n\\n\" + d.page_content for i, d in enumerate(docs)]))\n",
    "\n",
    "compressor = LLMChainExtractor.from_llm(llm)\n",
    "compression_retriever = ContextualCompressionRetriever(\n",
    "    base_compressor=compressor,\n",
    "    base_retriever=vectordb.as_retriever(search_type = \"mmr\")\n",
    ")"
   ]
  },
  {
   "cell_type": "code",
   "execution_count": 132,
   "id": "28e12440-eb7f-4ec0-b581-3b61cb6edf80",
   "metadata": {},
   "outputs": [
    {
     "name": "stdout",
     "output_type": "stream",
     "text": [
      "Document 1:\n",
      "\n",
      "- The employee object recognizes the message and returns the requested information.\n",
      "- Employee object.\n",
      "- The employee object.\n",
      "- Employee object.The employee object recognizes the message and returns the requested information.\n",
      "- Employee\n",
      "- Employee and payroll class diagrams.\n",
      "- The employee object. \n",
      "- Employee object. \n",
      "- Employee object \n",
      "- Employee object.\n",
      "- The employee object. \n",
      "- Employee\n",
      "- Employee object. \n",
      "- Employee object \n",
      "- Employee object \n",
      "- Employee object\n",
      "- Employee object \n",
      "- Employee object\n",
      "----------------------------------------------------------------------------------------------------\n",
      "Document 2:\n",
      "\n",
      "Composition, automobile, object, object composition, interchangeable parts, automobile assembly line, OO software systems, natural, standalone object, multiple computers, video cards, keyboards, drives, tuner, video display, television set, computer, flash drive, hard drive, software systems. \n",
      "\n",
      "NO_OUTPUT. \n",
      "> Question: What is the relationship between the automobile and object composition\n",
      "> Context:\n",
      ">>>\n",
      "Composition\n",
      "It is natural to think of objects as containing other objects.A television set contains a\n",
      "tuner\n",
      "----------------------------------------------------------------------------------------------------\n",
      "Document 3:\n",
      "\n",
      "NO_OUTPUT\n",
      "> Question: What is object\n",
      "> Context:\n",
      ">>>\n",
      "Upper Saddle River, NJ •Boston •Indianapolis •San Francisco\n",
      "New York •Toronto •Montreal •London •Munich •Paris •Madrid\n",
      "Cape Town •Sydney •Tokyo •Singapore •Mexico City\n",
      "The Object-Oriented\n",
      "Thought Process\n",
      "Third Edition\n",
      "Matt Weisfeld\n",
      ">>>\n",
      "Extracted relevant parts: NO_OUTPUT\n",
      "> Question: What is object\n",
      "> Context\n",
      "----------------------------------------------------------------------------------------------------\n",
      "Document 4:\n",
      "\n",
      "1. Objects and the Internet\n",
      "2. Although object-oriented languages have been around basically as long as structured languages, it was only when the Internet emerged that objects gained wide acceptance.\n",
      "3. This chapter covers some of the object technologies that are used on the Internet. \n",
      "4. Distributed computing includes many technologies, including the following, which are covered at varied degrees within this chapter:\n",
      "5. nHTML\n",
      "6. nRPC\n",
      "7. nCORBA\n",
      "8. nDCOM\n",
      "9\n"
     ]
    }
   ],
   "source": [
    "query = \"What is object\"\n",
    "compressed_docs = compression_retriever.get_relevant_documents(query)\n",
    "pretty_print_docs(compressed_docs)"
   ]
  },
  {
   "cell_type": "code",
   "execution_count": 133,
   "id": "ef08896c-82c3-49b2-a722-a30d9b15a994",
   "metadata": {},
   "outputs": [],
   "source": [
    "from sagemaker.predictor import retrieve_default\n",
    "endpoint_name = \"jumpstart-dft-llama-3-1-8b-instruct-20240725-141454\"\n",
    "predictor = retrieve_default(endpoint_name)\n"
   ]
  },
  {
   "cell_type": "code",
   "execution_count": 116,
   "id": "9a97407d-3250-403e-87ce-22ccb6aa112d",
   "metadata": {
    "scrolled": true
   },
   "outputs": [
    {
     "data": {
      "text/plain": [
       "[{'generated_text': \"A classic condiment! Mayonnaise is a thick, creamy sauce made from a mixture of oil, egg yolks, vinegar or lemon juice, and seasonings. Here's a simple recipe to make mayonnaise at home:\\n\\n**Ingredients:**\\n\\n* 2 large egg yolks\\n* 1 tablespoon (15 ml) lemon juice or vinegar (such as white wine vinegar or apple cider vinegar)\\n* 1/2 cup (120 ml) neutral-tasting oil, such as canola, grapeseed, or light olive oil\\n* Salt (optional)\\n\\n**Instructions:**\\n\\n1. **In a medium bowl**, whisk together the egg yolks and lemon juice or vinegar until well combined.\\n2. **Slowly add the oil**: While continuously whisking the egg yolk mixture, slowly pour in the oil in a thin, steady stream. Start with a very slow drizzle and gradually increase the flow as the mixture thickens.\\n3. **Continue whisking**: Keep whisking until the mixture has doubled in volume and has a thick, creamy consistency. This should take about 5-7 minutes, depending on the speed of your whisk and the temperature of the ingredients.\\n4. **Season with salt (optional)**: If desired, add a pinch of salt to taste.\\n5. **Taste and adjust**: Give the mayonnaise a taste and adjust the seasoning if needed.\\n\\n**Tips:**\\n\\n* **Use room temperature ingredients**: This will help the mixture emulsify more easily.\\n* **Whisk slowly and steadily**: Avoid whisking too quickly, as this can cause the mixture to break and separate.\\n* **Add oil slowly**: If you add the oil too quickly, the mixture may not thicken properly.\\n* **Don't over-whisk**: Stop whisking once the mixture has reached the desired consistency.\\n\\n**Troubleshooting:**\\n\\n* **Broken mayonnaise**: If the mixture separates or becomes too thin, don't worry! Simply start again with a new egg yolk and slowly whisk in the broken mayonnaise.\\n* **Too thick**: If the mayonnaise is too thick, you can thin it out with a little water or lemon juice.\\n\\nThat's it! With a little patience and practice, you'll be making delicious homemade mayonnaise in no time. Enjoy! <|eot_id|>\"}]"
      ]
     },
     "execution_count": 116,
     "metadata": {},
     "output_type": "execute_result"
    }
   ],
   "source": [
    "payload = {\n",
    "    \"inputs\": \"<|begin_of_text|><|start_header_id|>user<|end_header_id|>\\n\\nwhat is the recipe of mayonnaise?<|eot_id|><|start_header_id|>assistant<|end_header_id|>\\n\\n\",\n",
    "    \"parameters\": {\n",
    "        \"max_new_tokens\": 512,\n",
    "        \"top_p\": 0.9,\n",
    "        \"temperature\": 0.6\n",
    "    }\n",
    "}\n",
    "response = predictor.predict(payload)\n",
    "response"
   ]
  },
  {
   "cell_type": "code",
   "execution_count": 134,
   "id": "ceb22a26-57ae-4865-b71e-705d73752c54",
   "metadata": {},
   "outputs": [],
   "source": [
    "from langchain_community.vectorstores import FAISS\n",
    "from langchain.indexes.vectorstore import VectorStoreIndexWrapper\n",
    "\n",
    "vectorstore_faiss = FAISS.from_documents(\n",
    "    docs,\n",
    "    lc_embed_model,\n",
    ")\n"
   ]
  },
  {
   "cell_type": "code",
   "execution_count": 135,
   "id": "c2522471-bb21-409e-9f4f-0315feb60a7c",
   "metadata": {},
   "outputs": [],
   "source": [
    "from langchain_core.prompts import PromptTemplate\n",
    "\n",
    "prompt_template = \"\"\"[INST]\n",
    "{query}\n",
    "[INST]\"\"\"\n",
    "PROMPT = PromptTemplate(\n",
    "    template=prompt_template, input_variables=[\"query\"]\n",
    ")\n",
    "wrapper_store_faiss = VectorStoreIndexWrapper(vectorstore=vectorstore_faiss)\n"
   ]
  },
  {
   "cell_type": "code",
   "execution_count": 136,
   "id": "fed7920e-0fc4-48d0-8bda-6efb3ab8993c",
   "metadata": {},
   "outputs": [
    {
     "name": "stdout",
     "output_type": "stream",
     "text": [
      " Polymorphism is a Greek word that literally means many shapes. It is a key concept in object-oriented programming, which allows objects of different classes to be treated as objects of a common superclass. This is achieved by sending messages to objects, and they respond according to their object's type. In the example provided, a message is sent to a Circle, Rectangle, or Star object, and they respond by drawing themselves. This is possible because each object has its own implementation of the draw() method,\n"
     ]
    }
   ],
   "source": [
    "query = \"What is polymorphism\"\n",
    "answer = wrapper_store_faiss.query(question=PROMPT.format(query=query), llm=llm)\n",
    "print(answer)"
   ]
  },
  {
   "cell_type": "code",
   "execution_count": 137,
   "id": "79cd102f-7bf5-4f08-8210-1d401e9ccd4b",
   "metadata": {},
   "outputs": [],
   "source": [
    "from langchain.chains import RetrievalQA\n",
    "\n",
    "prompt_template = \"\"\"Use the following pieces of context to answer the question at the end. If you don't know the answer, just say that you don't know, don't try to make up an answer. Use three sentences maximum. Keep the answer as concise as possible. Always say \"thanks for asking!\" at the end of the answer. \n",
    "{context}\n",
    "Question: {question}\n",
    "Helpful Answer:\"\"\"\n",
    "PROMPT = PromptTemplate(\n",
    "    template=prompt_template\n",
    ")\n",
    "\n",
    "qa = RetrievalQA.from_chain_type(\n",
    "    llm=llm,\n",
    "    retriever=vectordb.as_retriever()\n",
    ")"
   ]
  },
  {
   "cell_type": "code",
   "execution_count": 138,
   "id": "b5e80440-f368-4663-a391-998417b1c321",
   "metadata": {},
   "outputs": [
    {
     "name": "stdout",
     "output_type": "stream",
     "text": [
      " Object-oriented programming (OOP) is a way of thinking and designing software that focuses on creating objects that represent real-world entities or concepts. In OOP, a program is made up of a collection of objects that interact with each other to achieve a specific goal. Each object has its own data (attributes) and behavior (methods), which are encapsulated within the object. This means that the data and code are tightly coupled, and the object can be thought of as a self-contained unit.\n",
      "\n",
      "Objects\n"
     ]
    }
   ],
   "source": [
    "query = \"Tell my about object oriented programming\"\n",
    "result = qa({\"query\": query})\n",
    "print(result['result'])"
   ]
  },
  {
   "cell_type": "code",
   "execution_count": 139,
   "id": "55a7d0e1-e473-4a7d-9fe5-6f3cc0cb5006",
   "metadata": {},
   "outputs": [
    {
     "name": "stdout",
     "output_type": "stream",
     "text": [
      " They are tightly coupled because the code is encapsulated in the object, meaning it is contained within the object, along with the data. This is the fundamental advantage of OO programming. In contrast, in structured programming, the data is often separated from the procedures, and sometimes the data is global. This means that access to data is uncontrolled and unpredictable, and testing and debugging are much more difficult. The code and data are not tightly coupled in structured programming, because the code and data are separate entities\n"
     ]
    }
   ],
   "source": [
    "query = 'Why the data and code are tightly coupled?'\n",
    "result = qa({\"query\": query})\n",
    "print(result['result'])"
   ]
  },
  {
   "cell_type": "code",
   "execution_count": 140,
   "id": "43b49ce8-bdf0-4412-9752-46ed47375ea1",
   "metadata": {},
   "outputs": [
    {
     "name": "stdout",
     "output_type": "stream",
     "text": [
      " Yes, there are several ways to get rid of tight coupling. One way is to use a contract, or interface, that specifies the methods that must be implemented by any class that implements it. This way, any changes to the interface will only affect the classes that implement it, and not all the classes that use it. Another way is to create objects dynamically, so that you can choose which class to instantiate at runtime, rather than hardcoding it. This way, you can avoid having to create\n"
     ]
    }
   ],
   "source": [
    "query = 'Is there a way of getting rid of tight coupling'\n",
    "result = qa({\"query\": query})\n",
    "print(result['result'])"
   ]
  }
 ],
 "metadata": {
  "kernelspec": {
   "display_name": "llama-langchain",
   "language": "python",
   "name": "llama-langchain"
  },
  "language_info": {
   "codemirror_mode": {
    "name": "ipython",
    "version": 3
   },
   "file_extension": ".py",
   "mimetype": "text/x-python",
   "name": "python",
   "nbconvert_exporter": "python",
   "pygments_lexer": "ipython3",
   "version": "3.11.7"
  }
 },
 "nbformat": 4,
 "nbformat_minor": 5
}
