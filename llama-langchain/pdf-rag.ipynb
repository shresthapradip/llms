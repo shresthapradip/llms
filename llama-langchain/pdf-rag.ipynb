{
 "cells": [
  {
   "cell_type": "code",
   "execution_count": 1,
   "id": "initial_id",
   "metadata": {},
   "outputs": [
    {
     "name": "stdout",
     "output_type": "stream",
     "text": [
      "sagemaker.config INFO - Not applying SDK defaults from location: /Library/Application Support/sagemaker/config.yaml\n",
      "sagemaker.config INFO - Not applying SDK defaults from location: /Users/shresthap/Library/Application Support/sagemaker/config.yaml\n"
     ]
    },
    {
     "name": "stderr",
     "output_type": "stream",
     "text": [
      "USER_AGENT environment variable not set, consider setting it to identify your requests.\n"
     ]
    }
   ],
   "source": [
    "from rag_creator import RagCreator"
   ]
  },
  {
   "cell_type": "code",
   "execution_count": 2,
   "id": "eac0570a-636d-4b92-a12d-7f91d396f76f",
   "metadata": {
    "scrolled": true
   },
   "outputs": [
    {
     "name": "stdout",
     "output_type": "stream",
     "text": [
      "Using openai llm\n"
     ]
    }
   ],
   "source": [
    "# create an object to use openai\n",
    "rag = RagCreator('./db/chromapdf', llm_name='gpt-3.5-turbo')"
   ]
  },
  {
   "cell_type": "code",
   "execution_count": 4,
   "id": "f58fa93f-68b1-4fcf-9a4b-da75dd0c3c18",
   "metadata": {},
   "outputs": [],
   "source": [
    "# load\n",
    "rag.load_pdf('data/four-freedom-speech-1941.pdf')"
   ]
  },
  {
   "cell_type": "code",
   "execution_count": 5,
   "id": "4d6725e4-f048-4f72-b834-c0a8a7a7c982",
   "metadata": {
    "scrolled": true
   },
   "outputs": [
    {
     "name": "stdout",
     "output_type": "stream",
     "text": [
      "Creating stuff for 24 docs\n"
     ]
    }
   ],
   "source": [
    "# qa chain\n",
    "qa = rag.create_qa_chain('stuff', 4)"
   ]
  },
  {
   "cell_type": "code",
   "execution_count": 7,
   "id": "8f44fcc7-ff39-4d7d-b251-4e42aee13548",
   "metadata": {},
   "outputs": [
    {
     "data": {
      "text/plain": [
       "{'question': 'What are the four freedom',\n",
       " 'chat_history': [],\n",
       " 'answer': 'The four essential human freedoms outlined in the provided context are freedom of speech and expression, freedom of worship, freedom from want, and freedom from fear. Thanks for asking!',\n",
       " 'source_documents': [Document(metadata={'page': 5, 'source': 'data/four-freedom-speech-1941.pdf'}, page_content='payments in accordance with ability to pay should be c onstantly before our eyes to  guide our legislation. \\nIf the Congress maintains these principles, the voter s, putting patriotism ahead of pocketbooks, will \\ngive you their applause. \\nIn the future days, which we seek to make secu re, we look forward to a world founded upon four \\nessential human freedoms. \\nThe first is freedom of speech and expression—everywhere in the world. \\nThe second is freedom of every person to worship God in his own way—everywhere in the world. \\nThe third is freedom from want—which, translated  into world terms, means economic understandings \\nwhich will secure to every nation a healthy peacetime life for its inhabitants—everywhere in the world. \\nThe fourth is freedom from fear—which, translated into world terms, means a world-wide reduction of \\narmaments to such a point and in such a thorough f ashion that no nation will be in a position to commit an'),\n",
       "  Document(metadata={'page': 1, 'source': 'data/four-freedom-speech-1941.pdf'}, page_content='independence, or world disarmament, or freedom of  expression, or freedom of religion—or even good \\nbusiness. \\nSuch a peace would bring no security for us or for our neighbors. “Those, who would give up essential \\nliberty to purchase a little temporary safety, deserve neither liberty nor safety.” \\nAs a nation, we may take pride in the fact that we  are softhearted; but we cannot afford to be soft-\\nheaded. \\nWe must always be wary of those who with soundi ng brass and a tinkling cymbal preach the “ism” of \\nappeasement. \\nWe must especially beware of that small group of selfish men who would clip the wings of the \\nAmerican eagle in order to feather their own nests. \\nI have recently pointed out how quickly the tempo of  modern warfare could bring into our very midst \\nthe physical attack which we must eventually expect if the dictator nations win this war. \\nThere is much loose talk of our immunity from immediate and direct invasion from across the seas.'),\n",
       "  Document(metadata={'page': 5, 'source': 'data/four-freedom-speech-1941.pdf'}, page_content='conditions—without the concentration camp or the qui ck-lime in the ditch. The world order which we \\nseek is the cooperation of free countries, working together in a friendly, civilized society. \\nThis nation has placed its destiny in the hands and heads and hearts of its millions of free men and \\nwomen; and its faith in freedom under the guidance of God. Freedom means the supremacy of human \\nrights everywhere. Our support goes to those who struggle to gain those rights or keep them. Our strength \\nis our unity of purpose. \\nTo that high concept there can be no end save victory. \\n \\nSource: Franklin D. Roosevelt, “Annual Message to C ongress on the State of the Union,” January 6, 1941, in The Public Papers \\nand Addresses of Franklin D. Roosevelt. 1940 Volume  (New York: MacMillan, 1941), 663–672.'),\n",
       "  Document(metadata={'page': 4, 'source': 'data/four-freedom-speech-1941.pdf'}, page_content='We must all prepare to make the sacrifices that the emergency—almost as serious as war itself—\\ndemands. Whatever stands in the way of speed and effi ciency in defense preparations must give way to \\nthe national need. \\nA free nation has the right to expect full cooperation from all groups. A free nation has the right to \\nlook to the leaders of business, of labor, and of agricu lture to take the lead in stimulating effort, not \\namong other groups but within their own groups. \\nThe best way of dealing with the few slackers or tr ouble makers in our midst is, first, to shame them \\nby patriotic example, and, if that fails, to use the sovereignty of Government to save Government. \\nAs men do not live by bread alone, they do not fight by armaments alone. Those who man our \\ndefenses, and those behind them who build our defe nses, must have the stamina and the courage which \\ncome from unshakable belief in the manner of life which they are defending. The mighty action that we')],\n",
       " 'generated_question': 'What are the four freedom'}"
      ]
     },
     "execution_count": 7,
     "metadata": {},
     "output_type": "execute_result"
    }
   ],
   "source": [
    "# test\n",
    "qa({\"question\": 'What are the four freedom', \"chat_history\": []})"
   ]
  },
  {
   "cell_type": "code",
   "execution_count": null,
   "id": "5f6c11b3-a221-48e0-a508-7a627ced6053",
   "metadata": {},
   "outputs": [],
   "source": []
  },
  {
   "cell_type": "code",
   "execution_count": 8,
   "id": "8479df0d-433a-424f-b39d-90ff1885980b",
   "metadata": {},
   "outputs": [
    {
     "name": "stderr",
     "output_type": "stream",
     "text": [
      "/Users/shresthap/Documents/Projects/rag/llama-langchain/.venv/lib/python3.11/site-packages/tqdm/auto.py:21: TqdmWarning: IProgress not found. Please update jupyter and ipywidgets. See https://ipywidgets.readthedocs.io/en/stable/user_install.html\n",
      "  from .autonotebook import tqdm as notebook_tqdm\n"
     ]
    },
    {
     "name": "stdout",
     "output_type": "stream",
     "text": [
      "Running on local URL:  http://127.0.0.1:7864\n",
      "\n",
      "To create a public link, set `share=True` in `launch()`.\n"
     ]
    },
    {
     "data": {
      "text/html": [
       "<div><iframe src=\"http://127.0.0.1:7864/\" width=\"100%\" height=\"500\" allow=\"autoplay; camera; microphone; clipboard-read; clipboard-write;\" frameborder=\"0\" allowfullscreen></iframe></div>"
      ],
      "text/plain": [
       "<IPython.core.display.HTML object>"
      ]
     },
     "metadata": {},
     "output_type": "display_data"
    },
    {
     "data": {
      "text/plain": []
     },
     "execution_count": 8,
     "metadata": {},
     "output_type": "execute_result"
    }
   ],
   "source": [
    "# create chatbot ui\n",
    "import gradio as gr\n",
    "import time\n",
    "# create ui\n",
    "with gr.Blocks() as demo:\n",
    "    chatbot = gr.Chatbot()\n",
    "    msg = gr.Textbox()\n",
    "    clear = gr.ClearButton([msg, chatbot])\n",
    "    history = []\n",
    "    def respond(message, chat_history):\n",
    "        bot_message = qa({\"question\": message, \"chat_history\": history})\n",
    "        history.extend([(message, f\"{bot_message['answer']}\")])\n",
    "        chat_history.append((message, f\"{bot_message['answer']}\"))\n",
    "        print(bot_message)\n",
    "        time.sleep(2)\n",
    "        return \"\", chat_history\n",
    "\n",
    "    msg.submit(respond, [msg, chatbot], [msg, chatbot])\n",
    "\n",
    "demo.launch(inline=True)"
   ]
  }
 ],
 "metadata": {
  "kernelspec": {
   "display_name": "Python 3 (ipykernel)",
   "language": "python",
   "name": "python3"
  },
  "language_info": {
   "codemirror_mode": {
    "name": "ipython",
    "version": 3
   },
   "file_extension": ".py",
   "mimetype": "text/x-python",
   "name": "python",
   "nbconvert_exporter": "python",
   "pygments_lexer": "ipython3",
   "version": "3.11.7"
  }
 },
 "nbformat": 4,
 "nbformat_minor": 5
}
