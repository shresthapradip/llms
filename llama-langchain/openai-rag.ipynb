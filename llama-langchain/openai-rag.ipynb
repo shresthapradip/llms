{
 "cells": [
  {
   "cell_type": "code",
   "execution_count": 1,
   "id": "7ee69696-d337-4019-af46-90d9d647e878",
   "metadata": {},
   "outputs": [
    {
     "name": "stdout",
     "output_type": "stream",
     "text": [
      "sagemaker.config INFO - Not applying SDK defaults from location: /Library/Application Support/sagemaker/config.yaml\n",
      "sagemaker.config INFO - Not applying SDK defaults from location: /Users/shresthap/Library/Application Support/sagemaker/config.yaml\n"
     ]
    },
    {
     "name": "stderr",
     "output_type": "stream",
     "text": [
      "USER_AGENT environment variable not set, consider setting it to identify your requests.\n"
     ]
    }
   ],
   "source": [
    "from rag_creator import RagCreator"
   ]
  },
  {
   "cell_type": "code",
   "execution_count": 2,
   "id": "8b872704-fca0-4b94-bec5-dcc36857630c",
   "metadata": {},
   "outputs": [
    {
     "name": "stdout",
     "output_type": "stream",
     "text": [
      "Using openai llm\n"
     ]
    }
   ],
   "source": [
    "# create an object to use openai\n",
    "rag = RagCreator(llm_name='gpt-3.5-turbo')"
   ]
  },
  {
   "cell_type": "code",
   "execution_count": 59,
   "id": "af33571a-e560-40e4-9222-4d6d64dfed75",
   "metadata": {},
   "outputs": [
    {
     "name": "stdout",
     "output_type": "stream",
     "text": [
      "Getting content from https://www.niaid.nih.gov/\n",
      "Getting content from https://www.niaid.nih.gov/node/4220\n",
      "Getting content from https://www.niaid.nih.gov/grants-contracts/preparing-foreign-organization-system-review\n",
      "Getting content from https://www.niaid.nih.gov/node/4230\n",
      "Getting content from https://www.niaid.nih.gov/grants-contracts/prepare-your-application\n",
      "Getting content from https://www.niaid.nih.gov/grants-contracts/write-research-plan\n",
      "Getting content from https://www.niaid.nih.gov/grants-contracts/plan-budget-personnel\n",
      "Getting content from https://www.niaid.nih.gov/grants-contracts/salary-cap-stipends\n",
      "Getting content from https://www.niaid.nih.gov/node/4855\n",
      "Getting content from https://www.niaid.nih.gov/grants-contracts/contact-niaid-program-officer\n",
      "Getting content from https://www.niaid.nih.gov/research/rules-policies-grants\n",
      "Getting content from https://www.niaid.nih.gov/node/9847\n",
      "Getting content from https://www.niaid.nih.gov/node/3769\n",
      "Getting content from https://www.niaid.nih.gov/about/acquisitions-contacts\n",
      "Getting content from https://www.niaid.nih.gov/grants-contracts/sa-contracts-include-foreign-institutions\n",
      "Getting content from https://www.niaid.nih.gov/research/select-agent-awards\n",
      "Getting content from https://www.niaid.nih.gov/grants-contracts/sa-grants-include-foreign-institutions\n",
      "Getting content from https://www.niaid.nih.gov/about/extramural-research-policy-operations\n",
      "Getting content from https://www.niaid.nih.gov/node/2846\n",
      "Getting content from https://www.niaid.nih.gov/node/1995\n",
      "Getting content from https://www.niaid.nih.gov/node/1999\n",
      "Getting content from https://www.niaid.nih.gov/node/1997\n",
      "Getting content from https://www.niaid.nih.gov/node/1998\n",
      "Getting content from https://www.niaid.nih.gov/node/1841\n",
      "Getting content from https://www.niaid.nih.gov/node/1847\n",
      "Getting content from https://www.niaid.nih.gov/about/dea\n",
      "Getting content from https://www.niaid.nih.gov/about/scientific-review-program-contacts\n",
      "Getting content from https://www.niaid.nih.gov/about/committee-management\n",
      "Getting content from https://www.niaid.nih.gov/grants-contracts/contracts\n",
      "Getting content from https://www.niaid.nih.gov/node/5284\n",
      "Getting content from https://www.niaid.nih.gov/node/2017\n",
      "Getting content from https://www.niaid.nih.gov/about/rocky-mountain-laboratories-campus-map\n",
      "Getting content from https://www.niaid.nih.gov/about/rocky-mountain-bitterroot-valley\n",
      "Getting content from https://www.niaid.nih.gov/node/5283\n",
      "Getting content from https://www.niaid.nih.gov/node/5282\n",
      "Getting content from https://www.niaid.nih.gov/node/3757\n",
      "Getting content from https://www.niaid.nih.gov/node/3780\n",
      "Getting content from https://www.niaid.nih.gov/node/4859\n",
      "Getting content from https://www.niaid.nih.gov/grants-contracts/staying-funded\n",
      "Getting content from https://www.niaid.nih.gov/node/5296\n",
      "Getting content from https://www.niaid.nih.gov/node/4994\n",
      "Getting content from https://www.niaid.nih.gov/node/5106\n",
      "Getting content from https://www.niaid.nih.gov/node/5156\n",
      "Getting content from https://www.niaid.nih.gov/grants-contracts/research-grants\n",
      "Getting content from https://www.niaid.nih.gov/node/5152\n",
      "Getting content from https://www.niaid.nih.gov/node/3758\n",
      "Getting content from https://www.niaid.nih.gov/node/3740\n",
      "Getting content from https://www.niaid.nih.gov//inside.niaid.nih.gov/user/2002459614 \n",
      "Getting content from https://www.niaid.nih.gov/node/3759\n",
      "Getting content from https://www.niaid.nih.gov/node/3690\n"
     ]
    }
   ],
   "source": [
    "# load web\n",
    "from langchain.embeddings.openai import OpenAIEmbeddings\n",
    "embedding = OpenAIEmbeddings()\n",
    "def load_web(url, limit=5):\n",
    "    files_extension_to_exclude = ['.pdf', '.doc', '.docx', '.xls', '.xlsx',\n",
    "                                  'jpg', '.jpeg', '.png', '.gif', '.ico',\n",
    "                                  '.svg', 'webp']\n",
    "    root = '/'\n",
    "    nodes_list = deque()  # stack\n",
    "    visited = set()  # set\n",
    "\n",
    "    # add root\n",
    "    nodes_list.append(root)\n",
    "\n",
    "    # title and content only\n",
    "    bs4_strainer = bs4.SoupStrainer(['h1', \"article\"])\n",
    "\n",
    "    # set counter to 0\n",
    "    counter = 0\n",
    "\n",
    "    web_docs = []\n",
    "    while len(nodes_list) > 0 and (counter < limit or limit == -1):\n",
    "        counter = counter + 1\n",
    "        node_str = nodes_list.pop()\n",
    "        nodes = node_str.split('#')\n",
    "        visited.add(nodes[0])\n",
    "        full_node_url = url + nodes[0]\n",
    "        print('Getting content from', full_node_url)\n",
    "        loader = WebBaseLoader(\n",
    "            web_paths=(full_node_url,),\n",
    "            bs_kwargs={\"parse_only\": bs4_strainer},\n",
    "        )\n",
    "        loader.session.headers[\n",
    "            'User-Agent'] = 'Mozilla/5.0 (iPad; CPU OS 12_2 like Mac OS X) AppleWebKit/605.1.15 (KHTML, like Gecko) Mobile/15E148'\n",
    "\n",
    "        # load and tokenize\n",
    "        docs = loader.load_and_split(self.text_splitter)\n",
    "        # to find all a tags\n",
    "        scraped_doc = loader.scrape()\n",
    "        # embed the docs\n",
    "        web_docs.extend(docs)\n",
    "        # update nodes_list using anchor tags\n",
    "        for a in scraped_doc.findAll('a'):\n",
    "            # make sure the href exists and is internal\n",
    "            if not a.has_attr('href') or not a['href'].startswith('/'):\n",
    "                continue\n",
    "            # exclude files\n",
    "            url_path = urlparse(a['href']).path\n",
    "            file_extension = os.path.splitext(url_path)[1]\n",
    "            if file_extension in files_extension_to_exclude:\n",
    "                continue\n",
    "            # maintain stack\n",
    "            anchor_strs = a['href'].split('#')\n",
    "            if anchor_strs[0] not in visited and anchor_strs[0] not in nodes_list:\n",
    "                nodes_list.append(anchor_strs[0])\n",
    "    return web_docs\n",
    "    \n",
    "docs = rag.load_web('https://www.niaid.nih.gov', 50)"
   ]
  },
  {
   "cell_type": "code",
   "execution_count": 60,
   "id": "f50aa4e2-5c1e-4986-b3fe-bc4ea7af93b7",
   "metadata": {},
   "outputs": [
    {
     "data": {
      "text/plain": [
       "Document(metadata={'source': 'https://www.niaid.nih.gov/'}, page_content='Home Page\\n\\n\\n\\n\\n\\n\\n\\n\\n\\n\\n\\nVolunteer for Clinical Studies \\n\\nHealthy volunteers help NIAID to evaluate treatment and prevention options for a wide range of diseases and conditions in our mission areas. Help us to improve human health.\\n\\n\\nVolunteer Now \\n\\n\\n \\n\\n\\n\\n\\n\\n\\n\\n\\n\\n\\n\\n\\n\\n\\n\\n\\n\\n\\n\\n\\n\\n\\n\\n \\n\\n\\n                    RECOVER-TLC: The Next Phase in Long COVID Clinical Trials\\n                     \\nNIAID is leading the next stage of clinical trials to help Long COVID patients.\\n\\n \\n\\n\\n\\n\\n\\n\\n\\n \\n\\n\\n                    NIAID Research Agenda for 2024 H5N1 Influenza\\n                     \\nNIAID has mobilized its intramural and extramural-supported research infrastructure to provide scientific support to the U.S. Department of Agriculture (USDA) and the Department of Health and Human Services (HHS).')"
      ]
     },
     "execution_count": 60,
     "metadata": {},
     "output_type": "execute_result"
    }
   ],
   "source": [
    "docs[0]"
   ]
  },
  {
   "cell_type": "code",
   "execution_count": 61,
   "id": "381f15fd-2808-40fd-8992-5e26014dc061",
   "metadata": {
    "scrolled": true
   },
   "outputs": [],
   "source": [
    "from langchain.vectorstores import DocArrayInMemorySearch\n",
    "\n",
    "def create_vector_store(docs):\n",
    "    # create a vector store\n",
    "    return DocArrayInMemorySearch.from_documents(docs, embedding)\n",
    "db  = create_vector_store(docs) "
   ]
  },
  {
   "cell_type": "code",
   "execution_count": 62,
   "id": "e71d9c0d-989e-4839-91c1-ae95b924b579",
   "metadata": {},
   "outputs": [],
   "source": [
    "from langchain.chains import ConversationalRetrievalChain\n",
    "from langchain.chat_models import ChatOpenAI\n",
    "# Build prompt\n",
    "from langchain.prompts import PromptTemplate\n",
    "template = \"\"\"\"You are an assistant for question-answering tasks specifically about the provided documents. \"\n",
    "    \"Use ONLY the following pieces of retrieved context to answer the question. \"\n",
    "    \"If you can't find the answer in the given context, say 'I'm sorry, but I couldn't find information about that in the provided context.' \"\n",
    "    \"Do not use any external knowledge. Use three sentences maximum and keep the answer concise.\"\n",
    "    \"\\n\\n\"\n",
    "    \"{context}\"\n",
    "Question: {question}\n",
    "Helpful Answer:\"\"\"\n",
    "QA_CHAIN_PROMPT = PromptTemplate(input_variables=[\"context\", \"question\"],template=template,)\n",
    "\n",
    "retriever = db.as_retriever(search_type=\"similarity\", search_kwargs={\"k\": 4})\n",
    "# create a chatbot chain. Memory is managed externally.\n",
    "qa_chain = ConversationalRetrievalChain.from_llm(\n",
    "    llm=ChatOpenAI(model_name='gpt-3.5-turbo', temperature=0),\n",
    "    chain_type='stuff',\n",
    "    retriever=retriever,\n",
    "    return_source_documents=True,\n",
    "    return_generated_question=True,\n",
    "    verbose=False,\n",
    "    combine_docs_chain_kwargs={\"prompt\": QA_CHAIN_PROMPT},\n",
    ")\n"
   ]
  },
  {
   "cell_type": "code",
   "execution_count": 65,
   "id": "01bef923-5d30-4ec4-bbcd-bf4382d2451b",
   "metadata": {},
   "outputs": [
    {
     "data": {
      "text/plain": [
       "{'question': 'tell me about iron man?',\n",
       " 'chat_history': [],\n",
       " 'answer': \"I'm sorry, but I couldn't find information about that in the provided context.\",\n",
       " 'source_documents': [Document(metadata={'source': 'https://www.niaid.nih.gov/node/2017'}, page_content='Visitor Information'),\n",
       "  Document(metadata={'source': 'https://www.niaid.nih.gov/grants-contracts/write-research-plan'}, page_content=\"their team's expertise.Don't take a chance your reviewer will gloss over that one critical sentence buried somewhere in your Research Strategy or elsewhere. Write yourself an insurance policy against human fallibility: if it's a key point, repeat it, then repeat it again.Add more emphasis by putting the text in bold, or bold italics (in the modern age, we skip underlining—it's for typewriters).Here are more strategies from our successful PIs:While describing a method in the Approach section, they state their or collaborators' experience with it.They point out that they have access to a necessary piece of equipment.When explaining their field and the status of current research, they weave in their own work and their preliminary data.They delve into the biology of the area to make sure reviewers will grasp the importance of their research and understand their field and how their work fits into it.Spot the SampleYou can see many of these principles at work in the Approach section of the\"),\n",
       "  Document(metadata={'source': 'https://www.niaid.nih.gov/node/3769'}, page_content=\"question or a suggestion to improve this page, email the Office of Knowledge and Educational Resources at\\xa0deaweb@niaid.nih.gov.LinksIf your research involves select agents, find more information on NIAID's Research Using Select Agents.\"),\n",
       "  Document(metadata={'source': 'https://www.niaid.nih.gov/research/select-agent-awards'}, page_content=\"question or a suggestion to improve this page, email the Office of Knowledge and Educational Resources at\\xa0deaweb@niaid.nih.gov.LinksIf your research involves select agents, find more information on NIAID's Research Using Select Agents.\")],\n",
       " 'generated_question': 'tell me about iron man?'}"
      ]
     },
     "execution_count": 65,
     "metadata": {},
     "output_type": "execute_result"
    }
   ],
   "source": [
    "qa_chain({\"question\": 'tell me about iron man?', \"chat_history\": []})"
   ]
  },
  {
   "cell_type": "code",
   "execution_count": 11,
   "id": "0e662cdd-f7c2-4e95-9746-37c0c89147de",
   "metadata": {},
   "outputs": [
    {
     "ename": "AttributeError",
     "evalue": "'DocArrayInMemorySearch' object has no attribute '_collection'",
     "output_type": "error",
     "traceback": [
      "\u001b[0;31m---------------------------------------------------------------------------\u001b[0m",
      "\u001b[0;31mAttributeError\u001b[0m                            Traceback (most recent call last)",
      "Cell \u001b[0;32mIn[11], line 2\u001b[0m\n\u001b[1;32m      1\u001b[0m \u001b[38;5;66;03m# docs count\u001b[39;00m\n\u001b[0;32m----> 2\u001b[0m \u001b[43mrag\u001b[49m\u001b[38;5;241;43m.\u001b[39;49m\u001b[43mget_num_docs\u001b[49m\u001b[43m(\u001b[49m\u001b[43m)\u001b[49m\n",
      "File \u001b[0;32m~/Documents/Projects/rag/llama-langchain/rag_creator.py:119\u001b[0m, in \u001b[0;36mRagCreator.get_num_docs\u001b[0;34m(self)\u001b[0m\n\u001b[1;32m    118\u001b[0m \u001b[38;5;28;01mdef\u001b[39;00m \u001b[38;5;21mget_num_docs\u001b[39m(\u001b[38;5;28mself\u001b[39m):\n\u001b[0;32m--> 119\u001b[0m     \u001b[38;5;28;01mreturn\u001b[39;00m \u001b[38;5;28;43mself\u001b[39;49m\u001b[38;5;241;43m.\u001b[39;49m\u001b[43mvectorstore\u001b[49m\u001b[38;5;241;43m.\u001b[39;49m\u001b[43m_collection\u001b[49m\u001b[38;5;241m.\u001b[39mcount()\n",
      "\u001b[0;31mAttributeError\u001b[0m: 'DocArrayInMemorySearch' object has no attribute '_collection'"
     ]
    }
   ],
   "source": [
    "# docs count\n",
    "rag.get_num_docs()"
   ]
  },
  {
   "cell_type": "code",
   "execution_count": 12,
   "id": "9eddfa08-be5a-49a9-a66a-bb63419d3d25",
   "metadata": {},
   "outputs": [
    {
     "ename": "AttributeError",
     "evalue": "'DocArrayInMemorySearch' object has no attribute '_collection'",
     "output_type": "error",
     "traceback": [
      "\u001b[0;31m---------------------------------------------------------------------------\u001b[0m",
      "\u001b[0;31mAttributeError\u001b[0m                            Traceback (most recent call last)",
      "Cell \u001b[0;32mIn[12], line 1\u001b[0m\n\u001b[0;32m----> 1\u001b[0m qa_chain \u001b[38;5;241m=\u001b[39m \u001b[43mrag\u001b[49m\u001b[38;5;241;43m.\u001b[39;49m\u001b[43mcreate_qa_chain\u001b[49m\u001b[43m(\u001b[49m\u001b[38;5;124;43m'\u001b[39;49m\u001b[38;5;124;43mstuff\u001b[39;49m\u001b[38;5;124;43m'\u001b[39;49m\u001b[43m,\u001b[49m\u001b[43m \u001b[49m\u001b[38;5;241;43m4\u001b[39;49m\u001b[43m)\u001b[49m\n",
      "File \u001b[0;32m~/Documents/Projects/rag/llama-langchain/rag_creator.py:105\u001b[0m, in \u001b[0;36mRagCreator.create_qa_chain\u001b[0;34m(self, chain_type, k)\u001b[0m\n\u001b[1;32m    103\u001b[0m \u001b[38;5;28;01mdef\u001b[39;00m \u001b[38;5;21mcreate_qa_chain\u001b[39m(\u001b[38;5;28mself\u001b[39m, chain_type: \u001b[38;5;28mstr\u001b[39m, k: \u001b[38;5;28mint\u001b[39m):\n\u001b[1;32m    104\u001b[0m     \u001b[38;5;66;03m# define retriever\u001b[39;00m\n\u001b[0;32m--> 105\u001b[0m     \u001b[38;5;28mprint\u001b[39m(\u001b[38;5;124mf\u001b[39m\u001b[38;5;124m\"\u001b[39m\u001b[38;5;124mCreating \u001b[39m\u001b[38;5;132;01m{\u001b[39;00mchain_type\u001b[38;5;132;01m}\u001b[39;00m\u001b[38;5;124m for \u001b[39m\u001b[38;5;132;01m{\u001b[39;00m\u001b[38;5;28;43mself\u001b[39;49m\u001b[38;5;241;43m.\u001b[39;49m\u001b[43mget_num_docs\u001b[49m\u001b[43m(\u001b[49m\u001b[43m)\u001b[49m\u001b[38;5;132;01m}\u001b[39;00m\u001b[38;5;124m docs\u001b[39m\u001b[38;5;124m\"\u001b[39m)\n\u001b[1;32m    106\u001b[0m     retriever \u001b[38;5;241m=\u001b[39m \u001b[38;5;28mself\u001b[39m\u001b[38;5;241m.\u001b[39mvectorstore\u001b[38;5;241m.\u001b[39mas_retriever(search_type\u001b[38;5;241m=\u001b[39m\u001b[38;5;124m\"\u001b[39m\u001b[38;5;124msimilarity\u001b[39m\u001b[38;5;124m\"\u001b[39m, search_kwargs\u001b[38;5;241m=\u001b[39m{\u001b[38;5;124m\"\u001b[39m\u001b[38;5;124mk\u001b[39m\u001b[38;5;124m\"\u001b[39m: k})\n\u001b[1;32m    107\u001b[0m     \u001b[38;5;66;03m# create a chatbot chain. Memory is managed externally.\u001b[39;00m\n",
      "File \u001b[0;32m~/Documents/Projects/rag/llama-langchain/rag_creator.py:119\u001b[0m, in \u001b[0;36mRagCreator.get_num_docs\u001b[0;34m(self)\u001b[0m\n\u001b[1;32m    118\u001b[0m \u001b[38;5;28;01mdef\u001b[39;00m \u001b[38;5;21mget_num_docs\u001b[39m(\u001b[38;5;28mself\u001b[39m):\n\u001b[0;32m--> 119\u001b[0m     \u001b[38;5;28;01mreturn\u001b[39;00m \u001b[38;5;28;43mself\u001b[39;49m\u001b[38;5;241;43m.\u001b[39;49m\u001b[43mvectorstore\u001b[49m\u001b[38;5;241;43m.\u001b[39;49m\u001b[43m_collection\u001b[49m\u001b[38;5;241m.\u001b[39mcount()\n",
      "\u001b[0;31mAttributeError\u001b[0m: 'DocArrayInMemorySearch' object has no attribute '_collection'"
     ]
    }
   ],
   "source": [
    "qa_chain = rag.create_qa_chain('stuff', 4)"
   ]
  },
  {
   "cell_type": "code",
   "execution_count": 10,
   "id": "59cb8f8e-f1da-4efb-a44d-12b6e5fa1268",
   "metadata": {},
   "outputs": [
    {
     "name": "stderr",
     "output_type": "stream",
     "text": [
      "/Users/shresthap/Documents/Projects/rag/llama-langchain/.venv/lib/python3.11/site-packages/langchain_core/_api/deprecation.py:141: LangChainDeprecationWarning: The method `Chain.__call__` was deprecated in langchain 0.1.0 and will be removed in 0.3.0. Use invoke instead.\n",
      "  warn_deprecated(\n"
     ]
    },
    {
     "data": {
      "text/plain": [
       "{'question': 'who is the narendra modi',\n",
       " 'chat_history': [],\n",
       " 'answer': 'Narendra Modi is the Prime Minister of India, having held the position since May 2014. He is a member of the Bharatiya Janata Party (BJP) and the Rashtriya Swayamsevak Sangh (RSS), a Hindu nationalist organization. Prior to becoming Prime Minister, Modi served as the Chief Minister of the Indian state of Gujarat from 2001 to 2014.',\n",
       " 'source_documents': [Document(metadata={'source': 'https://www.niaid.nih.gov/node/4855'}, page_content=\"requirements. They are just a good way to build relationships with us and make sure your project is headed in the right direction. Before broaching the subject with your program officer, check with your business office about whether your institution will entertain a visit.Keep in Touch With NIAID StaffThough you rely on your institution's business office to pilot your grants management efforts, stay in contact with NIAID staff, too.Consult with your program officer on scientific matters. He or she can advise you on data and model organism sharing, public access rules, changes in protocol and scope, and progress reports. Your program officer is also your first point of contact if you want our help publicizing your research findings.For everything else, go to your grants management specialist. We have one assigned to every application, whether funded or not, old or new, expired or renewed.Contact this person at least once a year, even if just to say hello, and always get in touch if you\"),\n",
       "  Document(metadata={'source': 'https://www.niaid.nih.gov/node/4220'}, page_content='of Harvard University\"Modeling atomic structure of the EmrE multidrug pump to design inhibitor peptides\" (Forms-B2)Full ApplicationChad A. Rappleye, Ph.D., of Ohio State University\"Forward genetics-based discovery of Histoplasma virulence genes\" (Forms-B2)Full ApplicationSummary StatementR15 Sample Applications and Summary StatementsThe Research Enhancement Award (R15) program supports small-scale research projects to expose students to research and strengthen the research environment at educational institutions that have not been major recipients of NIH support. They are awarded for up to 3 years.PI and Recipient InstitutionApplication ResourcesArtem Domashevskiy, Ph.D., of John Jay College of Criminal Justice“Development of a Novel Inhibitor of Ricin: A Potential Therapeutic Lead against Deadly Shiga and Related Toxins” (Forms-D)Full ApplicationSummary StatementRahul Raghavan, Ph.D., of Portland State University\"Elucidating the evolution of Coxiella to uncover critical metabolic'),\n",
       "  Document(metadata={'source': 'https://www.niaid.nih.gov/node/4220'}, page_content='M.B.A., Makerere University“Strengthening Makerere University\\'s Research Administration Capacity for Efficient Management of NIH Grant Awards (SMAC)”\\xa0(Forms-E)Full ApplicationSummary StatementU01 Sample Application and Summary StatementThe U01 research project cooperative agreement supports a discrete, specified, circumscribed project for investigators to perform in their areas of specific interest and competency. Learn more about NIAID Cooperative Agreements (U).\\xa0PI and Recipient InstitutionApplication ResourcesAaron Meyer, Ph.D., of the University of California, Los AngelesFalk Nimmerjahn, Ph.D., of Friedrich-Alexander University Erlangen-Nuremberg, Germany\"Mapping the effector response space of antibody combinations\" (Forms-E)Full ApplicationSummary StatementNIAID and NIH Sample Forms, Plans, Letters, Emails, and MoreNIAIDSample Model Organism Sharing PlansComplex Model Organisms Sharing PlanModel Organisms Sharing Plan for MiceSimple Model Organisms Sharing PlanSample Letter to'),\n",
       "  Document(metadata={'source': 'https://www.niaid.nih.gov/node/4230'}, page_content='International Applications')],\n",
       " 'generated_question': 'who is the narendra modi'}"
      ]
     },
     "execution_count": 10,
     "metadata": {},
     "output_type": "execute_result"
    }
   ],
   "source": [
    "qa_chain({\"question\": 'who is the narendra modi', \"chat_history\": []})"
   ]
  },
  {
   "cell_type": "code",
   "execution_count": 6,
   "id": "c6cd4055-5231-4ae0-9778-0f6a1dff514b",
   "metadata": {},
   "outputs": [
    {
     "name": "stderr",
     "output_type": "stream",
     "text": [
      "/Users/shresthap/Documents/Projects/rag/llama-langchain/.venv/lib/python3.11/site-packages/tqdm/auto.py:21: TqdmWarning: IProgress not found. Please update jupyter and ipywidgets. See https://ipywidgets.readthedocs.io/en/stable/user_install.html\n",
      "  from .autonotebook import tqdm as notebook_tqdm\n"
     ]
    },
    {
     "name": "stdout",
     "output_type": "stream",
     "text": [
      "Running on local URL:  http://127.0.0.1:7860\n",
      "\n",
      "To create a public link, set `share=True` in `launch()`.\n"
     ]
    },
    {
     "data": {
      "text/html": [
       "<div><iframe src=\"http://127.0.0.1:7860/\" width=\"100%\" height=\"500\" allow=\"autoplay; camera; microphone; clipboard-read; clipboard-write;\" frameborder=\"0\" allowfullscreen></iframe></div>"
      ],
      "text/plain": [
       "<IPython.core.display.HTML object>"
      ]
     },
     "metadata": {},
     "output_type": "display_data"
    },
    {
     "data": {
      "text/plain": []
     },
     "execution_count": 6,
     "metadata": {},
     "output_type": "execute_result"
    },
    {
     "name": "stderr",
     "output_type": "stream",
     "text": [
      "/Users/shresthap/Documents/Projects/rag/llama-langchain/.venv/lib/python3.11/site-packages/langchain_core/_api/deprecation.py:141: LangChainDeprecationWarning: The method `Chain.__call__` was deprecated in langchain 0.1.0 and will be removed in 0.3.0. Use invoke instead.\n",
      "  warn_deprecated(\n"
     ]
    }
   ],
   "source": [
    "import gradio as gr\n",
    "import time\n",
    "# create ui\n",
    "with gr.Blocks() as demo:\n",
    "    chatbot = gr.Chatbot()\n",
    "    msg = gr.Textbox()\n",
    "    clear = gr.ClearButton([msg, chatbot])\n",
    "    history = []\n",
    "    def respond(message, chat_history):\n",
    "        bot_message = qa_chain({\"question\": message, \"chat_history\": history})\n",
    "        history.extend([(message, f\"{bot_message['answer']}\")])\n",
    "        chat_history.append((message, f\"{bot_message['answer']}, View more at: {bot_message['source_documents'][0].metadata['source']}\"))\n",
    "        time.sleep(2)\n",
    "        return \"\", chat_history\n",
    "\n",
    "    msg.submit(respond, [msg, chatbot], [msg, chatbot])\n",
    "\n",
    "demo.launch(inline=True)"
   ]
  }
 ],
 "metadata": {
  "kernelspec": {
   "display_name": "llama-langchain",
   "language": "python",
   "name": "llama-langchain"
  },
  "language_info": {
   "codemirror_mode": {
    "name": "ipython",
    "version": 3
   },
   "file_extension": ".py",
   "mimetype": "text/x-python",
   "name": "python",
   "nbconvert_exporter": "python",
   "pygments_lexer": "ipython3",
   "version": "3.11.7"
  }
 },
 "nbformat": 4,
 "nbformat_minor": 5
}
