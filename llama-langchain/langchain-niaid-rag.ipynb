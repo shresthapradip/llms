{
 "cells": [
  {
   "cell_type": "markdown",
   "id": "c33f18bb-b811-4101-910f-ee66ee28f313",
   "metadata": {},
   "source": [
    "# Vector Similarity\n",
    "1. Manhattan distance L1\n",
    "2. Euclidean distance L2\n",
    "3. Cosine distance\n",
    "4. Dot product distance"
   ]
  },
  {
   "cell_type": "code",
   "execution_count": 2,
   "id": "ca189910-48d5-4ded-bc69-36879d491507",
   "metadata": {},
   "outputs": [],
   "source": [
    "import os\n",
    "import openai\n",
    "import sys\n",
    "sys.path.append('../..')\n",
    "\n",
    "from dotenv import load_dotenv, find_dotenv\n",
    "_ = load_dotenv(find_dotenv()) # read local .env file\n",
    "os.environ['USER_AGENT'] = 'Mozilla/5.0 (iPad; CPU OS 12_2 like Mac OS X) AppleWebKit/605.1.15 (KHTML, like Gecko) Mobile/15E148'\n",
    "\n",
    "openai.api_key  = os.environ['OPENAI_API_KEY']"
   ]
  },
  {
   "cell_type": "code",
   "execution_count": 3,
   "id": "0ac367af-c9f8-4563-8b0f-c4b06460d4e5",
   "metadata": {},
   "outputs": [],
   "source": [
    "from langchain_openai import OpenAIEmbeddings\n",
    "embedding = OpenAIEmbeddings()"
   ]
  },
  {
   "cell_type": "code",
   "execution_count": 9,
   "id": "f5422ccc-c510-4b44-b83d-a06f90d49747",
   "metadata": {},
   "outputs": [],
   "source": [
    "from langchain.text_splitter import RecursiveCharacterTextSplitter, CharacterTextSplitter\n",
    "text_splitter = RecursiveCharacterTextSplitter(\n",
    "    chunk_size=1000,\n",
    "    chunk_overlap=150,\n",
    "    length_function=len,\n",
    "    separators=[\"\\n\\n\", \"\\n\"]\n",
    ")"
   ]
  },
  {
   "cell_type": "code",
   "execution_count": 15,
   "id": "e9f975a3-f075-434f-aa56-1de5fa2567fa",
   "metadata": {},
   "outputs": [
    {
     "name": "stdout",
     "output_type": "stream",
     "text": [
      "Getting content from https://www.niaid.nih.gov/\n",
      "['healthy volunteers help niaid evaluate treatment prevention options wide range diseases conditions mission areas help us improve human health healthy volunteers help niaid evaluate treatment prevention options wide range diseases conditions mission areas help us improve human health niaid mobilized intramural extramural-supported research infrastructure provide scientific support u.s. department agriculture usda department health human services hhs niaid mobilized intramural extramural-supported research infrastructure provide scientific support u.s. department agriculture usda department health human services hhs niaid making every effort eliminate use stigmatizing terminology advance use person-first inclusive respectful language niaid hiv language guide relevance beyond hiv includes language related areas research diseases conditions gender sexuality general research terminology niaid making every effort eliminate use stigmatizing terminology advance use person-first inclusive respectful language niaid hiv language guide relevance beyond hiv includes language related areas research diseases conditions gender sexuality general research terminology stomp niaid-funded clinical trial evaluate efficacy antiviral tecovirimat also know tpoxx treatment mpox think might mpox find volunteer stomp niaid-funded clinical trial evaluate efficacy antiviral tecovirimat also know tpoxx treatment mpox think might mpox find volunteer dr. marrazzo began tenure sixth niaid director fall 2023. oversees 6.6 billion budget supports research advance understanding diagnosis treatment prevention infectious immunologic allergic diseases internationally recognized research education efforts field sexually transmitted infections especially affect womens health get latest information ... learn ...']\n",
      "Getting content from https://www.niaid.nih.gov/global/email-updates\n",
      "[\"niaid offers free email subscription service allows website users receive notifications email new information available email address used deliver requested information give access profile subscriptions subscriber lists updated every 6 months open engage emails within period subscription may removed subscription profile get updated information items interest automatically without return website check changes select list subscription options enter email address click subscribe button activate subscriptions log access user profile change email address modify password delete subscriptions remove email address service ensure receive subscription emails announcements niaid please add niaid service.govdelivery.com email address contact list adjust spam settings follow instructions email provider prevent emails marked `` spam '' `` junk mail ''\"]\n",
      "Getting content from https://www.niaid.nih.gov/node/6476\n",
      "['los enlaces que aparecen debajo le llevarna nuestras pginas webque contienen informacin en espaol spanish']\n",
      "\n"
     ]
    }
   ],
   "source": [
    "import requests\n",
    "from collections import deque\n",
    "from bs4 import BeautifulSoup\n",
    "from urllib.parse import urlparse\n",
    "from nltk.tokenize import word_tokenize\n",
    "from nltk.corpus import stopwords\n",
    "import pathlib\n",
    "import os\n",
    "import string\n",
    "from langchain.chains import create_extraction_chain\n"
   ]
  },
  {
   "cell_type": "code",
   "execution_count": null,
   "id": "e942d4ed-eb5d-459c-b811-d7ec33a2e18e",
   "metadata": {},
   "outputs": [],
   "source": [
    "\n"
   ]
  },
  {
   "cell_type": "code",
   "execution_count": 6,
   "id": "f830ce97-d8be-475b-ad07-0004f971fc0a",
   "metadata": {},
   "outputs": [
    {
     "name": "stdout",
     "output_type": "stream",
     "text": [
      "gpt-3.5-turbo\n"
     ]
    }
   ],
   "source": [
    "import datetime\n",
    "current_date = datetime.datetime.now().date()\n",
    "if current_date < datetime.date(2023, 9, 2):\n",
    "    llm_name = \"gpt-3.5-turbo-0301\"\n",
    "else:\n",
    "    llm_name = \"gpt-3.5-turbo\"\n",
    "print(llm_name)"
   ]
  },
  {
   "cell_type": "code",
   "execution_count": 135,
   "id": "55ff989c-6002-4a04-b08a-982df48c857b",
   "metadata": {},
   "outputs": [
    {
     "data": {
      "text/plain": [
       "[]"
      ]
     },
     "execution_count": 135,
     "metadata": {},
     "output_type": "execute_result"
    }
   ],
   "source": [
    "import bs4\n",
    "from langchain_community.document_loaders import WebBaseLoader\n",
    "import requests\n",
    "\n",
    "# Only keep post title, headers, and content from the full HTML.\n",
    "bs4_strainer = bs4.SoupStrainer(['h1', \"article\"])\n",
    "header_template = {'User-Agent': 'Mozilla/5.0 (iPad; CPU OS 12_2 like Mac OS X) AppleWebKit/605.1.15 (KHTML, like Gecko) Mobile/15E148'}\n",
    "loader = WebBaseLoader(\n",
    "    web_paths=(\"https://www.niaid.nih.gov/\",),\n",
    "    bs_kwargs={\"parse_only\": bs4_strainer},\n",
    ")\n",
    "\n",
    "scraped_doc = loader.scrape()\n",
    "docs = loader.load_and_split(text_splitter)"
   ]
  },
  {
   "cell_type": "code",
   "execution_count": 146,
   "id": "4c88b578-13ba-464d-995f-f999e7f032b7",
   "metadata": {},
   "outputs": [],
   "source": [
    "from langchain.vectorstores import Chroma\n",
    "persist_directory = 'docs/db/'\n",
    "!rm -rf ./docs/chroma"
   ]
  },
  {
   "cell_type": "code",
   "execution_count": null,
   "id": "4a8fb184-b542-4464-adf5-a2a3723fe5bd",
   "metadata": {},
   "outputs": [],
   "source": [
    "vectordb = Chroma.from_documents(\n",
    "    documents=[],\n",
    "    embedding=embedding,\n",
    "    persist_directory=persist_directory\n",
    ")\n"
   ]
  },
  {
   "cell_type": "code",
   "execution_count": 127,
   "id": "907cd07b-1e51-4f43-b586-d19c034b120d",
   "metadata": {},
   "outputs": [
    {
     "name": "stdout",
     "output_type": "stream",
     "text": [
      "5\n"
     ]
    }
   ],
   "source": [
    "print(vectordb._collection.count())"
   ]
  },
  {
   "cell_type": "code",
   "execution_count": 176,
   "id": "a8a036e6-7ff6-44ee-b730-2a0573095d4b",
   "metadata": {},
   "outputs": [
    {
     "data": {
      "text/plain": [
       "langchain_community.vectorstores.chroma.Chroma"
      ]
     },
     "execution_count": 176,
     "metadata": {},
     "output_type": "execute_result"
    }
   ],
   "source": [
    "type(vectordb)\n"
   ]
  },
  {
   "cell_type": "code",
   "execution_count": 133,
   "id": "fbcbcf6f-349c-4d79-a7ff-ad5ce3692e69",
   "metadata": {},
   "outputs": [
    {
     "name": "stdout",
     "output_type": "stream",
     "text": [
      "1\n"
     ]
    },
    {
     "data": {
      "text/plain": [
       "Document(metadata={'source': 'https://www.niaid.nih.gov/'}, page_content=\"Director\\n\\n                    Jeanne Marrazzo, M.D., M.P.H.\\n                \\n\\n\\n\\n                    Dr. Marrazzo began her tenure as the sixth NIAID Director in the fall of 2023.  She oversees a $6.6 billion budget that supports research to advance the understanding, diagnosis, treatment and prevention of infectious, immunologic, and allergic diseases. She is internationally recognized for her research and education efforts in the field of sexually transmitted infections, especially as they affect women’s health.\\n                \\nLearn more about Dr. Marrazzo\\n\\n\\n\\n\\nNewsroom\\n\\n\\n\\n\\nVisit the NIAID Newsroom\\n\\n\\n\\n\\n\\nRead NIAID's Latest News Releases\\n\\n\\n\\n\\n\\nContact the NIAID Media Team\\n\\n\\n\\n\\n\\nFollow NIAID on X \\n\\n\\n\\n\\n\\nSubscribe to NIAID on YouTube \\n\\n\\n\\n\\n\\n\\n\\n\\nFeatured Areas of Research\\n\\n\\n\\n\\nAntimicrobial Resistance\\n\\n\\nAntimicrobial Resistance Research Initiatives  \\nNIAID-Supported Research on Antimicrobial Resistance  \\nAntimicrobial Resistance Threats  \\n\\n \\n\\n\\n\\nHIV/AIDS\")"
      ]
     },
     "execution_count": 133,
     "metadata": {},
     "output_type": "execute_result"
    }
   ],
   "source": [
    "question='who is Jeanne Marrazzo'\n",
    "docs = vectordb.similarity_search(question,k=1)\n",
    "print(len(docs))\n",
    "\n",
    "docs[0]"
   ]
  },
  {
   "cell_type": "code",
   "execution_count": null,
   "id": "b48d1ac7-8e26-4d91-a7bf-0ee062171744",
   "metadata": {},
   "outputs": [],
   "source": []
  },
  {
   "cell_type": "code",
   "execution_count": 5,
   "id": "77d61ce8-2df7-4eeb-abc5-7107cde0b348",
   "metadata": {},
   "outputs": [
    {
     "ename": "NameError",
     "evalue": "name 'Chroma' is not defined",
     "output_type": "error",
     "traceback": [
      "\u001b[0;31m---------------------------------------------------------------------------\u001b[0m",
      "\u001b[0;31mNameError\u001b[0m                                 Traceback (most recent call last)",
      "Cell \u001b[0;32mIn[5], line 1\u001b[0m\n\u001b[0;32m----> 1\u001b[0m vectorstore \u001b[38;5;241m=\u001b[39m \u001b[43mChroma\u001b[49m(\u001b[38;5;124m\"\u001b[39m\u001b[38;5;124mlangchain_store\u001b[39m\u001b[38;5;124m\"\u001b[39m, embedding)\n",
      "\u001b[0;31mNameError\u001b[0m: name 'Chroma' is not defined"
     ]
    }
   ],
   "source": [
    "vectorstore = Chroma(\"langchain_store\", embedding)\n"
   ]
  },
  {
   "cell_type": "code",
   "execution_count": 154,
   "id": "d4896402-0110-4919-8cb4-56d2479d2024",
   "metadata": {},
   "outputs": [
    {
     "name": "stderr",
     "output_type": "stream",
     "text": [
      "/Users/shresthap/Documents/Projects/rag/llama-langchain/.venv/lib/python3.11/site-packages/langchain_core/_api/deprecation.py:141: LangChainDeprecationWarning: Since Chroma 0.4.x the manual persistence method is no longer supported as docs are automatically persisted.\n",
      "  warn_deprecated(\n"
     ]
    }
   ],
   "source": [
    "def web_scraping_dfs(url, limit = -1):\n",
    "    root = '/'\n",
    "    nodes_list = deque() # stack\n",
    "    visited = set()      # set\n",
    "\n",
    "    # add root\n",
    "    nodes_list.append(root)\n",
    "\n",
    "    # title and content only\n",
    "    bs4_strainer = bs4.SoupStrainer(['h1', \"article\"])\n",
    "    \n",
    "    # set counter to 0\n",
    "    counter = 0\n",
    "    while len(nodes_list) > 0 and (counter < limit or limit == -1):\n",
    "        counter = counter + 1\n",
    "        node=nodes_list.pop()\n",
    "        visited.add(node)\n",
    "        full_node_url = url + node\n",
    "        print('Getting content from', full_node_url)\n",
    "        loader = WebBaseLoader(\n",
    "            web_paths=(full_node_url,),\n",
    "            bs_kwargs={\"parse_only\": bs4_strainer},\n",
    "        )\n",
    "        loader.session.headers['User-Agent'] = 'Mozilla/5.0 (iPad; CPU OS 12_2 like Mac OS X) AppleWebKit/605.1.15 (KHTML, like Gecko) Mobile/15E148'\n",
    "\n",
    "        # load and tokenize\n",
    "        docs = loader.load_and_split(text_splitter)\n",
    "        # to find all a tags\n",
    "        scraped_doc = loader.scrape()\n",
    "        # embed the docs\n",
    "        vectorstore.add_documents(docs)\n",
    "        # update nodes_list using anchor tags\n",
    "        for a in scraped_doc.findAll('a'):\n",
    "            # make sure the href exists and is internal\n",
    "            if(not a.has_attr('href') or not a['href'].startswith('/')):\n",
    "                continue\n",
    "            # exclude files\n",
    "            url_path = urlparse(a['href']).path\n",
    "            file_extension = os.path.splitext(url_path)[1]\n",
    "            if(file_extension in files_extension_to_exclude):\n",
    "                continue\n",
    "            # maintain stack\n",
    "            if(a['href'] not in visited and a['href'] not in nodes_list):\n",
    "                nodes_list.append(a['href'])\n"
   ]
  },
  {
   "cell_type": "code",
   "execution_count": null,
   "id": "92db927e-baa7-4ca9-85f8-1d3fe6dd1903",
   "metadata": {},
   "outputs": [],
   "source": []
  },
  {
   "cell_type": "code",
   "execution_count": 155,
   "id": "9c33292d-d24f-42c0-913b-715745e569c8",
   "metadata": {
    "scrolled": true
   },
   "outputs": [
    {
     "name": "stdout",
     "output_type": "stream",
     "text": [
      "Getting content from https://www.niaid.nih.gov/\n",
      "Getting content from https://www.niaid.nih.gov/node/4220\n",
      "Getting content from https://www.niaid.nih.gov/grants-contracts/preparing-foreign-organization-system-review\n"
     ]
    }
   ],
   "source": [
    "web_scraping_dfs(\"https://www.niaid.nih.gov\", 3)\n",
    "vectorstore.persist()"
   ]
  },
  {
   "cell_type": "code",
   "execution_count": 156,
   "id": "12e712d6-4591-4822-b497-01ec54bab194",
   "metadata": {
    "scrolled": true
   },
   "outputs": [
    {
     "data": {
      "text/plain": [
       "13"
      ]
     },
     "execution_count": 156,
     "metadata": {},
     "output_type": "execute_result"
    }
   ],
   "source": [
    "vectorstore._collection.count()"
   ]
  },
  {
   "cell_type": "code",
   "execution_count": 159,
   "id": "bc2b9d08-d82d-435b-bd1d-9c819ec0a902",
   "metadata": {},
   "outputs": [
    {
     "name": "stdout",
     "output_type": "stream",
     "text": [
      "1\n"
     ]
    },
    {
     "data": {
      "text/plain": [
       "\"director jeanne marrazzo m.d. m.p.h dr. marrazzo began tenure sixth niaid director fall 2023. oversees 6.6 billion budget supports research advance understanding diagnosis treatment prevention infectious immunologic allergic diseases internationally recognized research education efforts field sexually transmitted infections especially affect womens health learn dr. marrazzo newsroom visit niaid newsroom read niaid 's latest news releases contact niaid media team follow niaid x subscribe niaid youtube featured areas research antimicrobial resistance antimicrobial resistance research initiatives niaid-supported research antimicrobial resistance antimicrobial resistance threats hiv/aids\""
      ]
     },
     "execution_count": 159,
     "metadata": {},
     "output_type": "execute_result"
    }
   ],
   "source": [
    "question='who is Jeanne Marrazzo'\n",
    "docs = vectordb.similarity_search(question,k=1)\n",
    "print(len(docs))\n",
    "\n",
    "preprocess_text(docs[0].page_content)"
   ]
  },
  {
   "cell_type": "code",
   "execution_count": null,
   "id": "0f81cafb-a8b4-4830-b9c0-00ae5d03b66c",
   "metadata": {},
   "outputs": [],
   "source": []
  },
  {
   "cell_type": "code",
   "execution_count": 160,
   "id": "0dffa89b-0257-4555-bd8a-82c3687267df",
   "metadata": {},
   "outputs": [
    {
     "name": "stdout",
     "output_type": "stream",
     "text": [
      "gpt-3.5-turbo\n"
     ]
    }
   ],
   "source": [
    "import datetime\n",
    "current_date = datetime.datetime.now().date()\n",
    "if current_date < datetime.date(2023, 9, 2):\n",
    "    llm_name = \"gpt-3.5-turbo-0301\"\n",
    "else:\n",
    "    llm_name = \"gpt-3.5-turbo\"\n",
    "print(llm_name)"
   ]
  },
  {
   "cell_type": "code",
   "execution_count": 161,
   "id": "27155df2-c261-444d-9892-ff7b1401a4fb",
   "metadata": {
    "scrolled": true
   },
   "outputs": [
    {
     "name": "stderr",
     "output_type": "stream",
     "text": [
      "/Users/shresthap/Documents/Projects/rag/llama-langchain/.venv/lib/python3.11/site-packages/langchain_core/_api/deprecation.py:141: LangChainDeprecationWarning: The class `ChatOpenAI` was deprecated in LangChain 0.0.10 and will be removed in 0.3.0. An updated version of the class exists in the langchain-openai package and should be used instead. To use it run `pip install -U langchain-openai` and import as `from langchain_openai import ChatOpenAI`.\n",
      "  warn_deprecated(\n"
     ]
    }
   ],
   "source": [
    "from langchain.chat_models import ChatOpenAI\n",
    "llm = ChatOpenAI(model_name=llm_name, temperature=0)"
   ]
  },
  {
   "cell_type": "code",
   "execution_count": 187,
   "id": "79dc3ace-b44d-4c62-95a7-f7dcb6580030",
   "metadata": {},
   "outputs": [],
   "source": [
    "from langchain.chains import RetrievalQA\n",
    "from langchain.prompts import PromptTemplate\n",
    "\n",
    "# Build prompt\n",
    "template = \"\"\"Use the following pieces of context to answer the question at the end. If you don't know the answer, just say that you don't know, don't try to make up an answer. Use three sentences maximum. Keep the answer as concise as possible. Always say \"thanks for asking!\" at the end of the answer. \n",
    "{context}\n",
    "Question: {question}\n",
    "Helpful Answer:\"\"\"\n",
    "QA_CHAIN_PROMPT = PromptTemplate.from_template(template)"
   ]
  },
  {
   "cell_type": "code",
   "execution_count": 166,
   "id": "2b5dad6e-fb13-46ce-9cdb-cd11b2c669fb",
   "metadata": {},
   "outputs": [],
   "source": [
    "\n"
   ]
  },
  {
   "cell_type": "code",
   "execution_count": 226,
   "id": "a7cfd2d0-149a-4940-9468-ae4c240afb97",
   "metadata": {},
   "outputs": [],
   "source": [
    "qa_chain = RetrievalQA.from_chain_type(\n",
    "    llm,\n",
    "    retriever=vectordb.as_retriever(),\n",
    "    return_source_documents=False,\n",
    "    chain_type_kwargs={\"prompt\": QA_CHAIN_PROMPT}\n",
    ")"
   ]
  },
  {
   "cell_type": "markdown",
   "id": "d033833e-b571-43f5-9a87-470c00558cdd",
   "metadata": {},
   "source": [
    "#### result = qa_chain({\"query\": question})\n",
    "result"
   ]
  },
  {
   "cell_type": "code",
   "execution_count": null,
   "id": "95e25c24-a995-43bf-a32a-a8b69a909ed7",
   "metadata": {},
   "outputs": [],
   "source": []
  },
  {
   "cell_type": "code",
   "execution_count": 228,
   "id": "7a96e196-524e-40ee-89d9-e57debd8cc26",
   "metadata": {},
   "outputs": [],
   "source": [
    "from langchain.embeddings.openai import OpenAIEmbeddings\n",
    "from langchain.text_splitter import CharacterTextSplitter, RecursiveCharacterTextSplitter\n",
    "from langchain.vectorstores import DocArrayInMemorySearch\n",
    "from langchain.document_loaders import TextLoader\n",
    "from langchain.chains import RetrievalQA,  ConversationalRetrievalChain\n",
    "from langchain.memory import ConversationBufferMemory\n",
    "from langchain.chat_models import ChatOpenAI\n",
    "from langchain.document_loaders import TextLoader\n",
    "from langchain.document_loaders import PyPDFLoader\n",
    "from langchain.vectorstores import Chroma"
   ]
  },
  {
   "cell_type": "code",
   "execution_count": 235,
   "id": "3359007d-6e42-4357-aec5-83e008109e98",
   "metadata": {},
   "outputs": [],
   "source": [
    "def create_vector_store():\n",
    "    persist_directory = 'docs/db/'\n",
    "    !rm -rf ./docs/db\n",
    "    vectorstore = Chroma(\"langchain_store\", embedding)\n",
    "    return vectorstore\n"
   ]
  },
  {
   "cell_type": "code",
   "execution_count": 230,
   "id": "657f0df1-0a2e-4887-aec3-fb72a1c1abe1",
   "metadata": {},
   "outputs": [],
   "source": [
    "def create_qa_chain(vectorstore:Chroma, chain_type, prompt, k):\n",
    "    # define retriever\n",
    "    retriever = vectorstore.as_retriever(search_type=\"similarity\", search_kwargs={\"k\": k})\n",
    "    # create a chatbot chain. Memory is managed externally.\n",
    "    qa_chain = ConversationalRetrievalChain.from_llm(\n",
    "        llm=ChatOpenAI(model_name=llm_name, temperature=0), \n",
    "        chain_type=chain_type, \n",
    "        retriever=retriever, \n",
    "        return_source_documents=False,\n",
    "            \n",
    "        return_generated_question=True,\n",
    "        combine_docs_chain_kwargs={\"prompt\": prompt}\n",
    "    )\n",
    "    return qa_chain"
   ]
  },
  {
   "cell_type": "code",
   "execution_count": 231,
   "id": "678d5858-6f85-4c9e-a4e3-1e0089d8a4ff",
   "metadata": {},
   "outputs": [],
   "source": [
    "def load_pdf(file, chain_type, k):\n",
    "    # create store\n",
    "    vectorstore = create_vector_store()\n",
    "    # load documents\n",
    "    loader = PyPDFLoader(file)\n",
    "    documents = loader.load()\n",
    "    # split documents\n",
    "    text_splitter = RecursiveCharacterTextSplitter(chunk_size=1000, chunk_overlap=150)\n",
    "    docs = text_splitter.split_documents(documents)\n",
    "    # load documents\n",
    "    vectorstore.add_documents(docs)\n",
    "    return vectorstore\n",
    "    "
   ]
  },
  {
   "cell_type": "code",
   "execution_count": 6,
   "id": "0b592116-ac35-404c-9f80-a11b947d8f27",
   "metadata": {},
   "outputs": [],
   "source": [
    "files_extension_to_exclude = ['.pdf', '.doc', '.docx', '.xls', '.xlsx',\n",
    "                              'jpg', '.jpeg', '.png', '.gif', '.ico',\n",
    "                              '.svg', 'webp']\n",
    "def load_web(file, chain_type, k):\n",
    "    root = '/'\n",
    "    nodes_list = deque() # stack\n",
    "    visited = set()      # set\n",
    "\n",
    "    # add root\n",
    "    nodes_list.append(root)\n",
    "\n",
    "    # title and content only\n",
    "    bs4_strainer = bs4.SoupStrainer(['h1', \"article\"])\n",
    "    \n",
    "    # set counter to 0\n",
    "    counter = 0\n",
    "    while len(nodes_list) > 0 and (counter < limit or limit == -1):\n",
    "        counter = counter + 1\n",
    "        node=nodes_list.pop()\n",
    "        visited.add(node)\n",
    "        full_node_url = url + node\n",
    "        print('Getting content from', full_node_url)\n",
    "        loader = WebBaseLoader(\n",
    "            web_paths=(full_node_url,),\n",
    "            bs_kwargs={\"parse_only\": bs4_strainer},\n",
    "        )\n",
    "        loader.session.headers['User-Agent'] = 'Mozilla/5.0 (iPad; CPU OS 12_2 like Mac OS X) AppleWebKit/605.1.15 (KHTML, like Gecko) Mobile/15E148'\n",
    "\n",
    "        # load and tokenize\n",
    "        docs = loader.load_and_split(text_splitter)\n",
    "        # to find all a tags\n",
    "        scraped_doc = loader.scrape()\n",
    "        # embed the docs\n",
    "        vectorstore.add_documents(docs)\n",
    "        # update nodes_list using anchor tags\n",
    "        for a in scraped_doc.findAll('a'):\n",
    "            # make sure the href exists and is internal\n",
    "            if(not a.has_attr('href') or not a['href'].startswith('/')):\n",
    "                continue\n",
    "            # exclude files\n",
    "            url_path = urlparse(a['href']).path\n",
    "            file_extension = os.path.splitext(url_path)[1]\n",
    "            if(file_extension in files_extension_to_exclude):\n",
    "                continue\n",
    "            # maintain stack\n",
    "            if(a['href'] not in visited and a['href'] not in nodes_list):\n",
    "                nodes_list.append(a['href'])"
   ]
  },
  {
   "cell_type": "code",
   "execution_count": 233,
   "id": "861177de-31a1-4eef-b37b-c8d16f133efa",
   "metadata": {},
   "outputs": [],
   "source": [
    "from langchain.chains import RetrievalQA\n",
    "from langchain.prompts import PromptTemplate\n",
    "\n",
    "def create_prompt():\n",
    "    # Build prompt\n",
    "    template = \"\"\"Use the following pieces of context to answer the question at the end. If you don't know the answer, just say that you don't know, don't try to make up an answer. Use three sentences maximum. Keep the answer as concise as possible. Always say \"thanks for asking!\" at the end of the answer. \n",
    "    {context}\n",
    "    Question: {question}\n",
    "    Helpful Answer:\"\"\"\n",
    "    prompt = PromptTemplate.from_template(template)\n",
    "    return prompt"
   ]
  },
  {
   "cell_type": "code",
   "execution_count": null,
   "id": "76831e5a-c49a-4d3b-b40f-1f3b11fdf90d",
   "metadata": {},
   "outputs": [],
   "source": []
  },
  {
   "cell_type": "code",
   "execution_count": 224,
   "id": "602678f8-b2b7-45c3-a45e-67c9a105ce5a",
   "metadata": {},
   "outputs": [
    {
     "name": "stdout",
     "output_type": "stream",
     "text": [
      "Running on local URL:  http://127.0.0.1:7890\n",
      "\n",
      "To create a public link, set `share=True` in `launch()`.\n"
     ]
    },
    {
     "data": {
      "text/html": [
       "<div><iframe src=\"http://127.0.0.1:7890/\" width=\"100%\" height=\"500\" allow=\"autoplay; camera; microphone; clipboard-read; clipboard-write;\" frameborder=\"0\" allowfullscreen></iframe></div>"
      ],
      "text/plain": [
       "<IPython.core.display.HTML object>"
      ]
     },
     "metadata": {},
     "output_type": "display_data"
    },
    {
     "data": {
      "text/plain": []
     },
     "execution_count": 224,
     "metadata": {},
     "output_type": "execute_result"
    },
    {
     "name": "stdout",
     "output_type": "stream",
     "text": [
      "{'question': 'hi', 'chat_history': [], 'answer': \"I'm sorry, but there is no question provided in the context. Thanks for asking!\", 'generated_question': 'hi'}\n",
      "{'question': 'hello', 'chat_history': [('hi', \"I'm sorry, but there is no question provided in the context. Thanks for asking!\")], 'answer': \"I can help you with information on volunteering for clinical studies, NIAID's research agenda for 2024, and the NIAID HIV Language Guide. Thanks for asking!\", 'generated_question': 'What can I help you with today?'}\n"
     ]
    }
   ],
   "source": [
    "import gradio as gr\n",
    "import random\n",
    "import time\n",
    "from itertools import chain\n",
    "\n",
    "# create a prompt\n",
    "prompt = create_prompt()\n",
    "# create a question-answer chain\n",
    "qa_chain = create_qa_chain(vectordb, \"stuff\", prompt, 3)\n",
    "with gr.Blocks() as demo:\n",
    "    chatbot = gr.Chatbot()\n",
    "    msg = gr.Textbox()\n",
    "    clear = gr.ClearButton([msg, chatbot])\n",
    "    history = []\n",
    "    def respond(message, chat_history):\n",
    "        bot_message = qa_chain({\"question\": message, \"chat_history\": history})\n",
    "        print(bot_message)\n",
    "        history.extend([(message, bot_message['answer'])])\n",
    "        chat_history.append((message, bot_message['answer']))\n",
    "        time.sleep(2)\n",
    "        return \"\", chat_history\n",
    "\n",
    "    msg.submit(respond, [msg, chatbot], [msg, chatbot])\n",
    "\n",
    "demo.launch(inline=True)"
   ]
  }
 ],
 "metadata": {
  "kernelspec": {
   "display_name": "llama-langchain",
   "language": "python",
   "name": "llama-langchain"
  },
  "language_info": {
   "codemirror_mode": {
    "name": "ipython",
    "version": 3
   },
   "file_extension": ".py",
   "mimetype": "text/x-python",
   "name": "python",
   "nbconvert_exporter": "python",
   "pygments_lexer": "ipython3",
   "version": "3.11.7"
  }
 },
 "nbformat": 4,
 "nbformat_minor": 5
}
