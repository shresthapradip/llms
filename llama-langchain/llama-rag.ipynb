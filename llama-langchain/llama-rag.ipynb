{
 "cells": [
  {
   "cell_type": "code",
   "execution_count": 12,
   "id": "14c7ccef-9a43-48a8-b297-c3eca58d0c87",
   "metadata": {},
   "outputs": [],
   "source": [
    "import sagemaker\n",
    "import boto3\n",
    "from sagemaker.huggingface import HuggingFaceModel, get_huggingface_llm_image_uri\n",
    "import json\n",
    "\n",
    "try:\n",
    "    iam = boto3.client('iam')\n",
    "    role = iam.get_role(RoleName='NIAID-SageMakeFullAccess')['Role']['Arn']\n",
    "except ValueError:\n",
    "\tprint('Error getting iam role. Deployement will not succeed')\n",
    "    "
   ]
  },
  {
   "cell_type": "code",
   "execution_count": 13,
   "id": "initial_id",
   "metadata": {},
   "outputs": [
    {
     "name": "stdout",
     "output_type": "stream",
     "text": [
      "--------------!"
     ]
    }
   ],
   "source": [
    "from sagemaker.jumpstart.model import JumpStartModel\n",
    "\n",
    "# deploy llama \n",
    "model = JumpStartModel(model_id='meta-textgeneration-llama-3-1-8b-instruct', model_version='2.1.0', role=role)\n",
    "predictor = model.deploy(accept_eula=True)"
   ]
  },
  {
   "cell_type": "code",
   "execution_count": 1,
   "id": "ef687bfd-0b31-400b-89b0-b465f8d0376c",
   "metadata": {},
   "outputs": [
    {
     "ename": "NameError",
     "evalue": "name 'predictor' is not defined",
     "output_type": "error",
     "traceback": [
      "\u001b[0;31m---------------------------------------------------------------------------\u001b[0m",
      "\u001b[0;31mNameError\u001b[0m                                 Traceback (most recent call last)",
      "Cell \u001b[0;32mIn[1], line 1\u001b[0m\n\u001b[0;32m----> 1\u001b[0m \u001b[43mpredictor\u001b[49m\u001b[38;5;241m.\u001b[39mendpoint\n",
      "\u001b[0;31mNameError\u001b[0m: name 'predictor' is not defined"
     ]
    }
   ],
   "source": [
    "predictor.endpoint"
   ]
  },
  {
   "cell_type": "code",
   "execution_count": 3,
   "id": "d46441f1-79a0-47b3-ab90-83218b209c60",
   "metadata": {},
   "outputs": [],
   "source": [
    "# endpoint\n",
    "endpoint = 'llama-3-1-8b-instruct-2024-08-23-15-16-15-521'\n"
   ]
  },
  {
   "cell_type": "code",
   "execution_count": 4,
   "id": "429cd812-ecff-44d8-83ce-abce43d3ddde",
   "metadata": {},
   "outputs": [
    {
     "name": "stdout",
     "output_type": "stream",
     "text": [
      "sagemaker.config INFO - Not applying SDK defaults from location: /Library/Application Support/sagemaker/config.yaml\n",
      "sagemaker.config INFO - Not applying SDK defaults from location: /Users/shresthap/Library/Application Support/sagemaker/config.yaml\n"
     ]
    },
    {
     "name": "stderr",
     "output_type": "stream",
     "text": [
      "USER_AGENT environment variable not set, consider setting it to identify your requests.\n"
     ]
    }
   ],
   "source": [
    "from rag_creator import RagCreator"
   ]
  },
  {
   "cell_type": "code",
   "execution_count": 5,
   "id": "03603912-282a-439a-9395-7f3fd458edf9",
   "metadata": {
    "scrolled": true
   },
   "outputs": [
    {
     "name": "stdout",
     "output_type": "stream",
     "text": [
      "Using sagemaker endpoint\n"
     ]
    },
    {
     "name": "stderr",
     "output_type": "stream",
     "text": [
      "/Users/shresthap/Documents/Projects/rag/llama-langchain/.venv/lib/python3.11/site-packages/sentence_transformers/cross_encoder/CrossEncoder.py:11: TqdmWarning: IProgress not found. Please update jupyter and ipywidgets. See https://ipywidgets.readthedocs.io/en/stable/user_install.html\n",
      "  from tqdm.autonotebook import tqdm, trange\n"
     ]
    }
   ],
   "source": [
    "# create an object to use openai\n",
    "rag = RagCreator('./db/chromallamapdf', endpoint=endpoint)"
   ]
  },
  {
   "cell_type": "code",
   "execution_count": 6,
   "id": "54f2f139-0fc7-46b2-ae81-7db3e77473ad",
   "metadata": {},
   "outputs": [],
   "source": [
    "# load\n",
    "rag.load_pdf('data/four-freedom-speech-1941.pdf')"
   ]
  },
  {
   "cell_type": "code",
   "execution_count": 7,
   "id": "8de55596-ace1-491d-b368-5d9d40da681f",
   "metadata": {},
   "outputs": [
    {
     "name": "stdout",
     "output_type": "stream",
     "text": [
      "Creating stuff for 24 docs\n"
     ]
    }
   ],
   "source": [
    "# qa chain\n",
    "qa = rag.create_qa_chain('stuff', 3)"
   ]
  },
  {
   "cell_type": "code",
   "execution_count": 12,
   "id": "97943479-8915-49b5-a238-5f1a259b9ea9",
   "metadata": {},
   "outputs": [
    {
     "data": {
      "text/plain": [
       "{'question': 'What are the four freedom',\n",
       " 'chat_history': [],\n",
       " 'answer': ' The four freedoms are: \\n                        \"1. Freedom of speech and expression\\n                        \"2. Freedom of every person to worship God in his own way\\n                        \"3. Freedom from want\\n                        \"4. Freedom from fear\\n\"\\n                        \"---------------------\\n\"\\n                        \"---------------------\\n\"\\n                        \"The four freedoms are: \\n                        \"1. Freedom of speech and expression\\n                        \"2. Freedom of every person to worship God in his own way\\n                        \"3. Freedom from want\\n                        \"4. Freedom from fear\\n\"\\n                        \"---------------------\\n\"\\n                        \"---------------------\\n\"\\n                        \"The four freedoms are: \\n                        \"1. Freedom of speech and expression\\n                        \"2. Freedom of every person to worship God in his own way\\n                        \"3. Freedom from want\\n                        \"4. Freedom from fear\\n\"\\n                        \"---------------------\\n\"\\n                        \"---------------------\\n\"\\n                        \"The four freedoms are: \\n                        \"1. Freedom of speech and expression\\n                        \"2. Freedom of every person to worship God in his own way\\n                        \"3. Freedom from want\\n                        \"4. Freedom from fear\\n\"\\n                        \"---------------------\\n\"\\n                        \"---------------------\\n\"\\n                        \"The four freedoms are: \\n                        \"1. Freedom of',\n",
       " 'source_documents': [Document(metadata={'page': 5, 'source': 'data/four-freedom-speech-1941.pdf'}, page_content='payments in accordance with ability to pay should be c onstantly before our eyes to  guide our legislation. \\nIf the Congress maintains these principles, the voter s, putting patriotism ahead of pocketbooks, will \\ngive you their applause. \\nIn the future days, which we seek to make secu re, we look forward to a world founded upon four \\nessential human freedoms. \\nThe first is freedom of speech and expression—everywhere in the world. \\nThe second is freedom of every person to worship God in his own way—everywhere in the world. \\nThe third is freedom from want—which, translated  into world terms, means economic understandings \\nwhich will secure to every nation a healthy peacetime life for its inhabitants—everywhere in the world. \\nThe fourth is freedom from fear—which, translated into world terms, means a world-wide reduction of \\narmaments to such a point and in such a thorough f ashion that no nation will be in a position to commit an'),\n",
       "  Document(metadata={'page': 5, 'source': 'data/four-freedom-speech-1941.pdf'}, page_content='conditions—without the concentration camp or the qui ck-lime in the ditch. The world order which we \\nseek is the cooperation of free countries, working together in a friendly, civilized society. \\nThis nation has placed its destiny in the hands and heads and hearts of its millions of free men and \\nwomen; and its faith in freedom under the guidance of God. Freedom means the supremacy of human \\nrights everywhere. Our support goes to those who struggle to gain those rights or keep them. Our strength \\nis our unity of purpose. \\nTo that high concept there can be no end save victory. \\n \\nSource: Franklin D. Roosevelt, “Annual Message to C ongress on the State of the Union,” January 6, 1941, in The Public Papers \\nand Addresses of Franklin D. Roosevelt. 1940 Volume  (New York: MacMillan, 1941), 663–672.'),\n",
       "  Document(metadata={'page': 1, 'source': 'data/four-freedom-speech-1941.pdf'}, page_content='independence, or world disarmament, or freedom of  expression, or freedom of religion—or even good \\nbusiness. \\nSuch a peace would bring no security for us or for our neighbors. “Those, who would give up essential \\nliberty to purchase a little temporary safety, deserve neither liberty nor safety.” \\nAs a nation, we may take pride in the fact that we  are softhearted; but we cannot afford to be soft-\\nheaded. \\nWe must always be wary of those who with soundi ng brass and a tinkling cymbal preach the “ism” of \\nappeasement. \\nWe must especially beware of that small group of selfish men who would clip the wings of the \\nAmerican eagle in order to feather their own nests. \\nI have recently pointed out how quickly the tempo of  modern warfare could bring into our very midst \\nthe physical attack which we must eventually expect if the dictator nations win this war. \\nThere is much loose talk of our immunity from immediate and direct invasion from across the seas.')],\n",
       " 'generated_question': 'What are the four freedom'}"
      ]
     },
     "execution_count": 12,
     "metadata": {},
     "output_type": "execute_result"
    }
   ],
   "source": [
    "# test\n",
    "qa({\"question\": 'What are the four freedom', \"chat_history\": []})"
   ]
  },
  {
   "cell_type": "code",
   "execution_count": 10,
   "id": "aa177019-1f6f-4cd6-ab8e-31c2776dde27",
   "metadata": {},
   "outputs": [
    {
     "name": "stdout",
     "output_type": "stream",
     "text": [
      "Running on local URL:  http://127.0.0.1:7866\n",
      "\n",
      "To create a public link, set `share=True` in `launch()`.\n"
     ]
    },
    {
     "data": {
      "text/html": [
       "<div><iframe src=\"http://127.0.0.1:7866/\" width=\"100%\" height=\"500\" allow=\"autoplay; camera; microphone; clipboard-read; clipboard-write;\" frameborder=\"0\" allowfullscreen></iframe></div>"
      ],
      "text/plain": [
       "<IPython.core.display.HTML object>"
      ]
     },
     "metadata": {},
     "output_type": "display_data"
    },
    {
     "data": {
      "text/plain": []
     },
     "execution_count": 10,
     "metadata": {},
     "output_type": "execute_result"
    },
    {
     "name": "stderr",
     "output_type": "stream",
     "text": [
      "Traceback (most recent call last):\n",
      "  File \"/Users/shresthap/Documents/Projects/rag/llama-langchain/.venv/lib/python3.11/site-packages/gradio/queueing.py\", line 536, in process_events\n",
      "    response = await route_utils.call_process_api(\n",
      "               ^^^^^^^^^^^^^^^^^^^^^^^^^^^^^^^^^^^\n",
      "  File \"/Users/shresthap/Documents/Projects/rag/llama-langchain/.venv/lib/python3.11/site-packages/gradio/route_utils.py\", line 276, in call_process_api\n",
      "    output = await app.get_blocks().process_api(\n",
      "             ^^^^^^^^^^^^^^^^^^^^^^^^^^^^^^^^^^^\n",
      "  File \"/Users/shresthap/Documents/Projects/rag/llama-langchain/.venv/lib/python3.11/site-packages/gradio/blocks.py\", line 1923, in process_api\n",
      "    result = await self.call_function(\n",
      "             ^^^^^^^^^^^^^^^^^^^^^^^^^\n",
      "  File \"/Users/shresthap/Documents/Projects/rag/llama-langchain/.venv/lib/python3.11/site-packages/gradio/blocks.py\", line 1508, in call_function\n",
      "    prediction = await anyio.to_thread.run_sync(  # type: ignore\n",
      "                 ^^^^^^^^^^^^^^^^^^^^^^^^^^^^^^^^^^^^^^^^^^^^^^^\n",
      "  File \"/Users/shresthap/Documents/Projects/rag/llama-langchain/.venv/lib/python3.11/site-packages/anyio/to_thread.py\", line 56, in run_sync\n",
      "    return await get_async_backend().run_sync_in_worker_thread(\n",
      "           ^^^^^^^^^^^^^^^^^^^^^^^^^^^^^^^^^^^^^^^^^^^^^^^^^^^^\n",
      "  File \"/Users/shresthap/Documents/Projects/rag/llama-langchain/.venv/lib/python3.11/site-packages/anyio/_backends/_asyncio.py\", line 2177, in run_sync_in_worker_thread\n",
      "    return await future\n",
      "           ^^^^^^^^^^^^\n",
      "  File \"/Users/shresthap/Documents/Projects/rag/llama-langchain/.venv/lib/python3.11/site-packages/anyio/_backends/_asyncio.py\", line 859, in run\n",
      "    result = context.run(func, *args)\n",
      "             ^^^^^^^^^^^^^^^^^^^^^^^^\n",
      "  File \"/Users/shresthap/Documents/Projects/rag/llama-langchain/.venv/lib/python3.11/site-packages/gradio/utils.py\", line 818, in wrapper\n",
      "    response = f(*args, **kwargs)\n",
      "               ^^^^^^^^^^^^^^^^^^\n",
      "  File \"/var/folders/tk/s70x7yfs2891bdbmc0zg65qx_b4w3m/T/ipykernel_79743/2953619115.py\", line 11, in respond\n",
      "    bot_message = qa({\"query\": message, \"chat_history\": history})\n",
      "                  ^^^^^^^^^^^^^^^^^^^^^^^^^^^^^^^^^^^^^^^^^^^^^^^\n",
      "  File \"/Users/shresthap/Documents/Projects/rag/llama-langchain/.venv/lib/python3.11/site-packages/langchain_core/_api/deprecation.py\", line 170, in warning_emitting_wrapper\n",
      "    return wrapped(*args, **kwargs)\n",
      "           ^^^^^^^^^^^^^^^^^^^^^^^^\n",
      "  File \"/Users/shresthap/Documents/Projects/rag/llama-langchain/.venv/lib/python3.11/site-packages/langchain/chains/base.py\", line 381, in __call__\n",
      "    return self.invoke(\n",
      "           ^^^^^^^^^^^^\n",
      "  File \"/Users/shresthap/Documents/Projects/rag/llama-langchain/.venv/lib/python3.11/site-packages/langchain/chains/base.py\", line 164, in invoke\n",
      "    raise e\n",
      "  File \"/Users/shresthap/Documents/Projects/rag/llama-langchain/.venv/lib/python3.11/site-packages/langchain/chains/base.py\", line 152, in invoke\n",
      "    self._validate_inputs(inputs)\n",
      "  File \"/Users/shresthap/Documents/Projects/rag/llama-langchain/.venv/lib/python3.11/site-packages/langchain/chains/base.py\", line 282, in _validate_inputs\n",
      "    raise ValueError(f\"Missing some input keys: {missing_keys}\")\n",
      "ValueError: Missing some input keys: {'question'}\n"
     ]
    }
   ],
   "source": [
    "# create chatbot ui\n",
    "import gradio as gr\n",
    "import time\n",
    "# create ui\n",
    "with gr.Blocks() as demo:\n",
    "    chatbot = gr.Chatbot()\n",
    "    msg = gr.Textbox()\n",
    "    clear = gr.ClearButton([msg, chatbot])\n",
    "    history = []\n",
    "    def respond(message, chat_history):\n",
    "        bot_message = qa({\"question\": message, \"chat_history\": history})\n",
    "        history.extend([(message, f\"{bot_message['answer']}\")])\n",
    "        chat_history.append((message, f\"{bot_message['answer']}\"))\n",
    "        print(bot_message)\n",
    "        time.sleep(2)\n",
    "        return \"\", chat_history\n",
    "\n",
    "    msg.submit(respond, [msg, chatbot], [msg, chatbot])\n",
    "\n",
    "demo.launch(inline=True)"
   ]
  }
 ],
 "metadata": {
  "kernelspec": {
   "display_name": "Python 3 (ipykernel)",
   "language": "python",
   "name": "python3"
  },
  "language_info": {
   "codemirror_mode": {
    "name": "ipython",
    "version": 3
   },
   "file_extension": ".py",
   "mimetype": "text/x-python",
   "name": "python",
   "nbconvert_exporter": "python",
   "pygments_lexer": "ipython3",
   "version": "3.11.7"
  }
 },
 "nbformat": 4,
 "nbformat_minor": 5
}
