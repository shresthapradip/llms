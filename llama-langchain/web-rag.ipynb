{
 "cells": [
  {
   "cell_type": "code",
   "execution_count": 1,
   "id": "initial_id",
   "metadata": {},
   "outputs": [
    {
     "name": "stdout",
     "output_type": "stream",
     "text": [
      "sagemaker.config INFO - Not applying SDK defaults from location: /Library/Application Support/sagemaker/config.yaml\n",
      "sagemaker.config INFO - Not applying SDK defaults from location: /Users/shresthap/Library/Application Support/sagemaker/config.yaml\n"
     ]
    },
    {
     "name": "stderr",
     "output_type": "stream",
     "text": [
      "USER_AGENT environment variable not set, consider setting it to identify your requests.\n"
     ]
    }
   ],
   "source": [
    "from rag_creator import RagCreator"
   ]
  },
  {
   "cell_type": "code",
   "execution_count": 2,
   "id": "9a6b6ea2-5a17-4ec5-8fef-6afabd3a80f2",
   "metadata": {},
   "outputs": [
    {
     "name": "stdout",
     "output_type": "stream",
     "text": [
      "Using openai llm\n"
     ]
    }
   ],
   "source": [
    "# create an object to use openai\n",
    "rag = RagCreator('./db/chroma', llm_name='gpt-3.5-turbo')"
   ]
  },
  {
   "cell_type": "code",
   "execution_count": 12,
   "id": "9a65ed38-d331-4a9c-aa61-65eaf2ae2d29",
   "metadata": {},
   "outputs": [
    {
     "name": "stdout",
     "output_type": "stream",
     "text": [
      "Getting content from https://www.niaid.nih.gov/about/director/\n"
     ]
    }
   ],
   "source": [
    "# load\n",
    "rag.load_web('https://www.niaid.nih.gov/about/director', 5)"
   ]
  },
  {
   "cell_type": "code",
   "execution_count": 13,
   "id": "c900865c-1050-4037-978e-057f481fbc0b",
   "metadata": {},
   "outputs": [
    {
     "name": "stdout",
     "output_type": "stream",
     "text": [
      "Creating stuff for 227 docs\n"
     ]
    }
   ],
   "source": [
    "# qa chain\n",
    "qa = rag.create_qa_chain('stuff', 4)"
   ]
  },
  {
   "cell_type": "code",
   "execution_count": 16,
   "id": "dce81dd3-c794-4f3e-bc74-0f99b2582ee5",
   "metadata": {
    "scrolled": true
   },
   "outputs": [
    {
     "data": {
      "text/plain": [
       "{'question': 'who is the director of NIAID',\n",
       " 'chat_history': [],\n",
       " 'answer': 'Jeanne Marrazzo, M.D., M.P.H. is the Director of NIAID. Thanks for asking!',\n",
       " 'source_documents': [Document(metadata={'source': 'https://www.niaid.nih.gov/about/director/'}, page_content='Director Jeanne Marrazzo, M.D., M.P.H.\\n\\n\\n\\n\\n\\n\\n\\n\\n\\n\\n\\n\\n\\n\\n\\n\\nJeanne Marrazzo, M.D., M.P.H.Director, NIAID'),\n",
       "  Document(metadata={'source': 'https://www.niaid.nih.gov/about/director/'}, page_content='Director Jeanne Marrazzo, M.D., M.P.H.\\n\\n\\n\\n\\n\\n\\n\\n\\n\\n\\n\\n\\n\\n\\n\\n\\nJeanne Marrazzo, M.D., M.P.H.Director, NIAID'),\n",
       "  Document(metadata={'source': 'https://www.niaid.nih.gov/node/1999'}, page_content='Main number: 301-496-2550Office of the DirectorJay Radke, Ph.D., Program DirectorJennifer Meyers, Ph.D., Deputy DirectorCarlton Boyd, M.P.H., Contract NIAID Referral LiaisonTara Capece, Ph.D., Knowledge Management CoordinatorBernice Mechanic, Program AnalystRenee Adeola, M.H.A., Peer Review SpecialistJosé Machado, Extramural Support AssistantAIDS Review BranchRon Otten, Ph.D., Branch ChiefLee Klinkenberg, Ph.D., Deputy ChiefSamita Andreansky, Ph.D., Scientific Review OfficerStephen Gallo, Ph.D., Scientific Review OfficerBarry Margulies, Ph.D., Scientific Review OfficerPoonam Pegu, Ph.D., Scientific Review OfficerShiv Prasad, Ph.D., Scientific Review OfficerWanwisa Promsote, Ph.D.,\\xa0Contract Scientific Review OfficerVishakha Sharma, Ph.D., Scientific Review OfficerJ. Bruce Sundstrom, Ph.D., Scientific Review OfficerRobert Unfer, Ph.D., Scientific Review OfficerKristina Wickham, Ph.D., Scientific Review OfficerKier Om, Contract Peer Review SpecialistKamesha Crawford, Program'),\n",
       "  Document(metadata={'source': 'https://www.niaid.nih.gov/about/director/'}, page_content='Dr. Marrazzo began her tenure as the sixth NIAID Director in the fall of 2023. She oversees a $6.6 billion budget that supports research to advance the understanding, diagnosis, treatment and prevention of infectious, immunologic, and allergic diseases. She is internationally recognized for her research and education efforts in the field of sexually transmitted infections, especially as they affect women’s health. Dr. Marrazzo’s research in discovery and implementation science has focused on the human microbiome, specifically as it relates to female reproductive tract infections and hormonal contraception; prevention of HIV infection using biomedical interventions, including preexposure prophylaxis (PrEP) and microbicides; and the pathogenesis and management of bacterial vaginosis (BV), sexually transmitted diseases in HIV-infected persons, and management of antibiotic resistance in gonorrhea. She is the author, coauthor, or editor of more than 250 scientific publications.Over her')],\n",
       " 'generated_question': 'who is the director of NIAID'}"
      ]
     },
     "execution_count": 16,
     "metadata": {},
     "output_type": "execute_result"
    }
   ],
   "source": [
    "# test\n",
    "qa({\"question\": 'who is the director of NIAID', \"chat_history\": []})"
   ]
  },
  {
   "cell_type": "code",
   "execution_count": 15,
   "id": "611d18ba-5cb4-46fb-a5a3-c7524e537c55",
   "metadata": {},
   "outputs": [
    {
     "name": "stdout",
     "output_type": "stream",
     "text": [
      "Running on local URL:  http://127.0.0.1:7863\n",
      "\n",
      "To create a public link, set `share=True` in `launch()`.\n"
     ]
    },
    {
     "data": {
      "text/html": [
       "<div><iframe src=\"http://127.0.0.1:7863/\" width=\"100%\" height=\"500\" allow=\"autoplay; camera; microphone; clipboard-read; clipboard-write;\" frameborder=\"0\" allowfullscreen></iframe></div>"
      ],
      "text/plain": [
       "<IPython.core.display.HTML object>"
      ]
     },
     "metadata": {},
     "output_type": "display_data"
    },
    {
     "data": {
      "text/plain": []
     },
     "execution_count": 15,
     "metadata": {},
     "output_type": "execute_result"
    },
    {
     "name": "stdout",
     "output_type": "stream",
     "text": [
      "{'question': 'how to apply for the grant', 'chat_history': [('how to apply for the grant', \"To apply for the grant, you can find sample grant applications and summary statements on the NIAID website. Make sure to follow your funding opportunity's instructions for application format and keep an eye on the Opportunities list for updates. Subscribe to Email Alerts for information on Paylines and Funding opportunities. Thanks for asking!\")], 'answer': \"To apply for the grant, you can find sample grant applications and summary statements on the NIAID website. Make sure to follow your funding opportunity's instructions for application format and keep an eye on the Opportunities list for updates. Subscribe to Email Alerts for information on Paylines and Funding opportunities. Thanks for asking!\", 'source_documents': [Document(metadata={'source': 'https://www.niaid.nih.gov/grants-contracts/prepare-your-application'}, page_content='Prepare Your Application\\n\\nIn this section, we walk you through the steps needed to prepare your application for submission.\\n\\nSample Applications\\nFind sample grant applications and summary statements as well as other examples that are part of the grant application such as forms, data sharing and model organism sharing plans, biographical sketches, and more.'), Document(metadata={'source': 'https://www.niaid.nih.gov/node/4230'}, page_content='Previous Step\\n\\n\\nDetermine Eligibility for NIAID Grants\\n\\n\\n\\n\\nNext Step\\n\\nPrepare Your Application'), Document(metadata={'source': 'https://www.niaid.nih.gov/node/4220'}, page_content=\"Several NIAID investigators have graciously agreed to share their exceptional applications and summary statements as samples to help the research community. Below the list of applications, you’ll also find example forms, sharing plans, letters, emails, and more. Find more\\xa0guidance at\\xa0NIAID’s Apply for a Grant.Always follow your funding opportunity's instructions for application format. Although these applications demonstrate good grantsmanship, time has passed since these grant recipients applied. The samples may not reflect the latest format or rules. NIAID posts new samples periodically.The text of these applications is copyrighted. Awardees provided express permission for NIAID to post these grant applications and summary statements for educational purposes. Awardees allow you to use the material (e.g., data, writing, graphics) they shared in these applications for nonprofit educational purposes only, provided the material remains unchanged and the principal investigators, awardee\"), Document(metadata={'source': 'https://www.niaid.nih.gov/node/4230'}, page_content='affect you. Keep an eye on the Opportunities list, Special Announcements,\\xa0and our publication\\xa0NIAID Funding News.You may want to Subscribe to Email Alerts for information on Paylines and Funding, funding opportunities, our newsletter, and more.Next StepsVisit other sections in the site’s navigation for more advice on applying for a grant, information on peer review, and other stages. Most of the information is appropriate for international as well as domestic applications.Once you’ve applied successfully for an international grant from NIAID, proceed to Foreign Grants Management.')], 'generated_question': 'how to apply for the grant'}\n",
      "{'question': 'tell me about Jeanne Marrazzo', 'chat_history': [('how to apply for the grant', \"To apply for the grant, you can find sample grant applications and summary statements on the NIAID website. Make sure to follow your funding opportunity's instructions for application format and keep an eye on the Opportunities list for updates. Subscribe to Email Alerts for information on Paylines and Funding opportunities. Thanks for asking!\"), ('tell me about Jeanne Marrazzo', 'Jeanne Marrazzo, M.D., M.P.H. is the Director of NIAID. She is a mentor to trainees at all stages of professional development and has received the American Sexually Transmitted Diseases Association’s Distinguished Career Award. Dr. Marrazzo is board certified in infectious disease and has chaired the American Board of Internal Medicine Council. Thanks for asking!')], 'answer': 'Jeanne Marrazzo, M.D., M.P.H. is the Director of NIAID. She is a mentor to trainees at all stages of professional development and has received the American Sexually Transmitted Diseases Association’s Distinguished Career Award. Dr. Marrazzo is board certified in infectious disease and has chaired the American Board of Internal Medicine Council. Thanks for asking!', 'source_documents': [Document(metadata={'source': 'https://www.niaid.nih.gov/about/director/'}, page_content='Director Jeanne Marrazzo, M.D., M.P.H.\\n\\n\\n\\n\\n\\n\\n\\n\\n\\n\\n\\n\\n\\n\\n\\n\\nJeanne Marrazzo, M.D., M.P.H.Director, NIAID'), Document(metadata={'source': 'https://www.niaid.nih.gov/about/director/'}, page_content='Director Jeanne Marrazzo, M.D., M.P.H.\\n\\n\\n\\n\\n\\n\\n\\n\\n\\n\\n\\n\\n\\n\\n\\n\\nJeanne Marrazzo, M.D., M.P.H.Director, NIAID'), Document(metadata={'source': 'https://www.niaid.nih.gov/about/director/'}, page_content='development and support of trainees; the advancement of underrepresented minorities in medicine and leadership; promoting meaningful dialogue with communities, and patient care.Dr. Marrazzo has served as a mentor to trainees at all stages of professional development and was the recipient of the American Sexually Transmitted Diseases Association’s Distinguished Career Award, the highest recognition of contributions to research and mentoring in the field. She is a Fellow of the American College of Physicians and of the Infectious Diseases Society of America and is board certified in infectious disease. Dr. Marrazzo also has chaired the American Board of Internal Medicine (ABIM) Council and the ABIM Infectious Disease Specialty Board. She earned her bachelor’s degree in biology from Harvard University; her M.D. from Thomas Jefferson University, Philadelphia; and her M.P.H. in epidemiology from the University of Washington, Seattle. She completed residency and chief residency in internal'), Document(metadata={'source': 'https://www.niaid.nih.gov/about/director/'}, page_content='development and support of trainees; the advancement of underrepresented minorities in medicine and leadership; promoting meaningful dialogue with communities, and patient care.Dr. Marrazzo has served as a mentor to trainees at all stages of professional development and was the recipient of the American Sexually Transmitted Diseases Association’s Distinguished Career Award, the highest recognition of contributions to research and mentoring in the field. She is a Fellow of the American College of Physicians and of the Infectious Diseases Society of America and is board certified in infectious disease. Dr. Marrazzo also has chaired the American Board of Internal Medicine (ABIM) Council and the ABIM Infectious Disease Specialty Board. She earned her bachelor’s degree in biology from Harvard University; her M.D. from Thomas Jefferson University, Philadelphia; and her M.P.H. in epidemiology from the University of Washington, Seattle. She completed residency and chief residency in internal')], 'generated_question': 'Who is Jeanne Marrazzo?'}\n"
     ]
    }
   ],
   "source": [
    "# create chatbot ui\n",
    "import gradio as gr\n",
    "import time\n",
    "# create ui\n",
    "with gr.Blocks() as demo:\n",
    "    chatbot = gr.Chatbot()\n",
    "    msg = gr.Textbox()\n",
    "    clear = gr.ClearButton([msg, chatbot])\n",
    "    history = []\n",
    "    def respond(message, chat_history):\n",
    "        bot_message = qa({\"question\": message, \"chat_history\": history})\n",
    "        history.extend([(message, f\"{bot_message['answer']}\")])\n",
    "        chat_history.append((message, f\"{bot_message['answer']}\"))\n",
    "        print(bot_message)\n",
    "        time.sleep(2)\n",
    "        return \"\", chat_history\n",
    "\n",
    "    msg.submit(respond, [msg, chatbot], [msg, chatbot])\n",
    "\n",
    "demo.launch(inline=True)"
   ]
  }
 ],
 "metadata": {
  "kernelspec": {
   "display_name": "Python 3 (ipykernel)",
   "language": "python",
   "name": "python3"
  },
  "language_info": {
   "codemirror_mode": {
    "name": "ipython",
    "version": 3
   },
   "file_extension": ".py",
   "mimetype": "text/x-python",
   "name": "python",
   "nbconvert_exporter": "python",
   "pygments_lexer": "ipython3",
   "version": "3.11.7"
  }
 },
 "nbformat": 4,
 "nbformat_minor": 5
}
